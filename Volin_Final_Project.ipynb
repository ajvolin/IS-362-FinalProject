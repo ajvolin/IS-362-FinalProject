{
 "cells": [
  {
   "cell_type": "markdown",
   "metadata": {
    "slideshow": {
     "slide_type": "slide"
    }
   },
   "source": [
    "# Adam Volin - IS362 Final Project\n",
    "\n",
    "This project will use data from NYC Open Data (https://opendata.cityofnewyork.us). The URLs for the source of each dataset is listed in their respective sections of this notebook. Field descriptions are available at the respective URLs.\n",
    "\n",
    "The purpose of this project is to analyze the NYC tree population utilizing several datasets from NYC Open Data, transform and tidy the datasets as necessary and then answer several questions. I am interested in this data because I have requested several trees to be planted through the MillionTrees NYC initiative (https://www.milliontreesnyc.org). I am curious to learn about the different tree species located throughout the boroughs, especially the least common species as I do not encounter them regularly, as well as the overall health of the tree population. By the end of this project, I'm aiming to discover which borough has the highest tree density."
   ]
  },
  {
   "cell_type": "markdown",
   "metadata": {
    "slideshow": {
     "slide_type": "skip"
    }
   },
   "source": [
    "Let's start with imports:"
   ]
  },
  {
   "cell_type": "code",
   "execution_count": 1,
   "metadata": {
    "slideshow": {
     "slide_type": "skip"
    }
   },
   "outputs": [],
   "source": [
    "# Imports\n",
    "import requests\n",
    "import pandas as pd\n",
    "import geopandas as gp\n",
    "from pandas.io.json import json_normalize\n",
    "from dateutil import parser\n",
    "import seaborn as sb\n",
    "import matplotlib.pyplot as plt\n",
    "%matplotlib inline\n",
    "from zipfile import ZipFile\n",
    "\n",
    "# Setup pandas to show all columns and limit row previews to 10 rows\n",
    "pd.set_option('display.max_columns', None)\n",
    "pd.set_option('display.max_rows', 12)"
   ]
  },
  {
   "cell_type": "markdown",
   "metadata": {
    "slideshow": {
     "slide_type": "slide"
    }
   },
   "source": [
    "## Dataset 1: 2015 Street Tree Census\n",
    "\n",
    "The 2015 Street Tree Census dataset is available at https://data.cityofnewyork.us/Environment/2015-Street-Tree-Census-Tree-Data/uvpi-gqnh. Tree data in the dataset includes tree species, diameter and perception of health. Accompanying blockface data is available indicating status of data collection and data release citywide.\n",
    "\n",
    "The source dataset has ~684,000 rows and 45 columns. We will download the source dataset in it's entirety. API documentation is available at https://dev.socrata.com/foundry/data.cityofnewyork.us/uvpi-gqnh. The dataset CSV export URL is https://data.cityofnewyork.us/api/views/uvpi-gqnh/rows.csv?accessType=DOWNLOAD.\n",
    "\n",
    "Let's unzip and load the data into pandas:"
   ]
  },
  {
   "cell_type": "code",
   "execution_count": 2,
   "metadata": {
    "slideshow": {
     "slide_type": "subslide"
    }
   },
   "outputs": [
    {
     "data": {
      "text/html": [
       "<div>\n",
       "<style scoped>\n",
       "    .dataframe tbody tr th:only-of-type {\n",
       "        vertical-align: middle;\n",
       "    }\n",
       "\n",
       "    .dataframe tbody tr th {\n",
       "        vertical-align: top;\n",
       "    }\n",
       "\n",
       "    .dataframe thead th {\n",
       "        text-align: right;\n",
       "    }\n",
       "</style>\n",
       "<table border=\"1\" class=\"dataframe\">\n",
       "  <thead>\n",
       "    <tr style=\"text-align: right;\">\n",
       "      <th></th>\n",
       "      <th>tree_id</th>\n",
       "      <th>block_id</th>\n",
       "      <th>created_at</th>\n",
       "      <th>tree_dbh</th>\n",
       "      <th>stump_diam</th>\n",
       "      <th>curb_loc</th>\n",
       "      <th>status</th>\n",
       "      <th>health</th>\n",
       "      <th>spc_latin</th>\n",
       "      <th>spc_common</th>\n",
       "      <th>steward</th>\n",
       "      <th>guards</th>\n",
       "      <th>sidewalk</th>\n",
       "      <th>user_type</th>\n",
       "      <th>problems</th>\n",
       "      <th>root_stone</th>\n",
       "      <th>root_grate</th>\n",
       "      <th>root_other</th>\n",
       "      <th>trunk_wire</th>\n",
       "      <th>trnk_light</th>\n",
       "      <th>trnk_other</th>\n",
       "      <th>brch_light</th>\n",
       "      <th>brch_shoe</th>\n",
       "      <th>brch_other</th>\n",
       "      <th>address</th>\n",
       "      <th>postcode</th>\n",
       "      <th>zip_city</th>\n",
       "      <th>community board</th>\n",
       "      <th>borocode</th>\n",
       "      <th>borough</th>\n",
       "      <th>cncldist</th>\n",
       "      <th>st_assem</th>\n",
       "      <th>st_senate</th>\n",
       "      <th>nta</th>\n",
       "      <th>nta_name</th>\n",
       "      <th>boro_ct</th>\n",
       "      <th>state</th>\n",
       "      <th>latitude</th>\n",
       "      <th>longitude</th>\n",
       "      <th>x_sp</th>\n",
       "      <th>y_sp</th>\n",
       "      <th>council district</th>\n",
       "      <th>census tract</th>\n",
       "      <th>bin</th>\n",
       "      <th>bbl</th>\n",
       "    </tr>\n",
       "  </thead>\n",
       "  <tbody>\n",
       "    <tr>\n",
       "      <th>0</th>\n",
       "      <td>180683</td>\n",
       "      <td>348711</td>\n",
       "      <td>08/27/2015</td>\n",
       "      <td>3</td>\n",
       "      <td>0</td>\n",
       "      <td>OnCurb</td>\n",
       "      <td>Alive</td>\n",
       "      <td>Fair</td>\n",
       "      <td>Acer rubrum</td>\n",
       "      <td>red maple</td>\n",
       "      <td>None</td>\n",
       "      <td>None</td>\n",
       "      <td>NoDamage</td>\n",
       "      <td>TreesCount Staff</td>\n",
       "      <td>None</td>\n",
       "      <td>No</td>\n",
       "      <td>No</td>\n",
       "      <td>No</td>\n",
       "      <td>No</td>\n",
       "      <td>No</td>\n",
       "      <td>No</td>\n",
       "      <td>No</td>\n",
       "      <td>No</td>\n",
       "      <td>No</td>\n",
       "      <td>108-005 70 AVENUE</td>\n",
       "      <td>11375</td>\n",
       "      <td>Forest Hills</td>\n",
       "      <td>406</td>\n",
       "      <td>4</td>\n",
       "      <td>Queens</td>\n",
       "      <td>29</td>\n",
       "      <td>28</td>\n",
       "      <td>16</td>\n",
       "      <td>QN17</td>\n",
       "      <td>Forest Hills</td>\n",
       "      <td>4073900</td>\n",
       "      <td>New York</td>\n",
       "      <td>40.723092</td>\n",
       "      <td>-73.844215</td>\n",
       "      <td>1027431.148</td>\n",
       "      <td>202756.7687</td>\n",
       "      <td>29.0</td>\n",
       "      <td>739.0</td>\n",
       "      <td>4052307.0</td>\n",
       "      <td>4.022210e+09</td>\n",
       "    </tr>\n",
       "    <tr>\n",
       "      <th>1</th>\n",
       "      <td>200540</td>\n",
       "      <td>315986</td>\n",
       "      <td>09/03/2015</td>\n",
       "      <td>21</td>\n",
       "      <td>0</td>\n",
       "      <td>OnCurb</td>\n",
       "      <td>Alive</td>\n",
       "      <td>Fair</td>\n",
       "      <td>Quercus palustris</td>\n",
       "      <td>pin oak</td>\n",
       "      <td>None</td>\n",
       "      <td>None</td>\n",
       "      <td>Damage</td>\n",
       "      <td>TreesCount Staff</td>\n",
       "      <td>Stones</td>\n",
       "      <td>Yes</td>\n",
       "      <td>No</td>\n",
       "      <td>No</td>\n",
       "      <td>No</td>\n",
       "      <td>No</td>\n",
       "      <td>No</td>\n",
       "      <td>No</td>\n",
       "      <td>No</td>\n",
       "      <td>No</td>\n",
       "      <td>147-074 7 AVENUE</td>\n",
       "      <td>11357</td>\n",
       "      <td>Whitestone</td>\n",
       "      <td>407</td>\n",
       "      <td>4</td>\n",
       "      <td>Queens</td>\n",
       "      <td>19</td>\n",
       "      <td>27</td>\n",
       "      <td>11</td>\n",
       "      <td>QN49</td>\n",
       "      <td>Whitestone</td>\n",
       "      <td>4097300</td>\n",
       "      <td>New York</td>\n",
       "      <td>40.794111</td>\n",
       "      <td>-73.818679</td>\n",
       "      <td>1034455.701</td>\n",
       "      <td>228644.8374</td>\n",
       "      <td>19.0</td>\n",
       "      <td>973.0</td>\n",
       "      <td>4101931.0</td>\n",
       "      <td>4.044750e+09</td>\n",
       "    </tr>\n",
       "    <tr>\n",
       "      <th>2</th>\n",
       "      <td>204026</td>\n",
       "      <td>218365</td>\n",
       "      <td>09/05/2015</td>\n",
       "      <td>3</td>\n",
       "      <td>0</td>\n",
       "      <td>OnCurb</td>\n",
       "      <td>Alive</td>\n",
       "      <td>Good</td>\n",
       "      <td>Gleditsia triacanthos var. inermis</td>\n",
       "      <td>honeylocust</td>\n",
       "      <td>1or2</td>\n",
       "      <td>None</td>\n",
       "      <td>Damage</td>\n",
       "      <td>Volunteer</td>\n",
       "      <td>None</td>\n",
       "      <td>No</td>\n",
       "      <td>No</td>\n",
       "      <td>No</td>\n",
       "      <td>No</td>\n",
       "      <td>No</td>\n",
       "      <td>No</td>\n",
       "      <td>No</td>\n",
       "      <td>No</td>\n",
       "      <td>No</td>\n",
       "      <td>390 MORGAN AVENUE</td>\n",
       "      <td>11211</td>\n",
       "      <td>Brooklyn</td>\n",
       "      <td>301</td>\n",
       "      <td>3</td>\n",
       "      <td>Brooklyn</td>\n",
       "      <td>34</td>\n",
       "      <td>50</td>\n",
       "      <td>18</td>\n",
       "      <td>BK90</td>\n",
       "      <td>East Williamsburg</td>\n",
       "      <td>3044900</td>\n",
       "      <td>New York</td>\n",
       "      <td>40.717581</td>\n",
       "      <td>-73.936608</td>\n",
       "      <td>1001822.831</td>\n",
       "      <td>200716.8913</td>\n",
       "      <td>34.0</td>\n",
       "      <td>449.0</td>\n",
       "      <td>3338310.0</td>\n",
       "      <td>3.028870e+09</td>\n",
       "    </tr>\n",
       "    <tr>\n",
       "      <th>3</th>\n",
       "      <td>204337</td>\n",
       "      <td>217969</td>\n",
       "      <td>09/05/2015</td>\n",
       "      <td>10</td>\n",
       "      <td>0</td>\n",
       "      <td>OnCurb</td>\n",
       "      <td>Alive</td>\n",
       "      <td>Good</td>\n",
       "      <td>Gleditsia triacanthos var. inermis</td>\n",
       "      <td>honeylocust</td>\n",
       "      <td>None</td>\n",
       "      <td>None</td>\n",
       "      <td>Damage</td>\n",
       "      <td>Volunteer</td>\n",
       "      <td>Stones</td>\n",
       "      <td>Yes</td>\n",
       "      <td>No</td>\n",
       "      <td>No</td>\n",
       "      <td>No</td>\n",
       "      <td>No</td>\n",
       "      <td>No</td>\n",
       "      <td>No</td>\n",
       "      <td>No</td>\n",
       "      <td>No</td>\n",
       "      <td>1027 GRAND STREET</td>\n",
       "      <td>11211</td>\n",
       "      <td>Brooklyn</td>\n",
       "      <td>301</td>\n",
       "      <td>3</td>\n",
       "      <td>Brooklyn</td>\n",
       "      <td>34</td>\n",
       "      <td>53</td>\n",
       "      <td>18</td>\n",
       "      <td>BK90</td>\n",
       "      <td>East Williamsburg</td>\n",
       "      <td>3044900</td>\n",
       "      <td>New York</td>\n",
       "      <td>40.713537</td>\n",
       "      <td>-73.934456</td>\n",
       "      <td>1002420.358</td>\n",
       "      <td>199244.2531</td>\n",
       "      <td>34.0</td>\n",
       "      <td>449.0</td>\n",
       "      <td>3338342.0</td>\n",
       "      <td>3.029250e+09</td>\n",
       "    </tr>\n",
       "    <tr>\n",
       "      <th>4</th>\n",
       "      <td>189565</td>\n",
       "      <td>223043</td>\n",
       "      <td>08/30/2015</td>\n",
       "      <td>21</td>\n",
       "      <td>0</td>\n",
       "      <td>OnCurb</td>\n",
       "      <td>Alive</td>\n",
       "      <td>Good</td>\n",
       "      <td>Tilia americana</td>\n",
       "      <td>American linden</td>\n",
       "      <td>None</td>\n",
       "      <td>None</td>\n",
       "      <td>Damage</td>\n",
       "      <td>Volunteer</td>\n",
       "      <td>Stones</td>\n",
       "      <td>Yes</td>\n",
       "      <td>No</td>\n",
       "      <td>No</td>\n",
       "      <td>No</td>\n",
       "      <td>No</td>\n",
       "      <td>No</td>\n",
       "      <td>No</td>\n",
       "      <td>No</td>\n",
       "      <td>No</td>\n",
       "      <td>603 6 STREET</td>\n",
       "      <td>11215</td>\n",
       "      <td>Brooklyn</td>\n",
       "      <td>306</td>\n",
       "      <td>3</td>\n",
       "      <td>Brooklyn</td>\n",
       "      <td>39</td>\n",
       "      <td>44</td>\n",
       "      <td>21</td>\n",
       "      <td>BK37</td>\n",
       "      <td>Park Slope-Gowanus</td>\n",
       "      <td>3016500</td>\n",
       "      <td>New York</td>\n",
       "      <td>40.666778</td>\n",
       "      <td>-73.975979</td>\n",
       "      <td>990913.775</td>\n",
       "      <td>182202.4260</td>\n",
       "      <td>39.0</td>\n",
       "      <td>165.0</td>\n",
       "      <td>3025654.0</td>\n",
       "      <td>3.010850e+09</td>\n",
       "    </tr>\n",
       "  </tbody>\n",
       "</table>\n",
       "</div>"
      ],
      "text/plain": [
       "   tree_id  block_id  created_at  tree_dbh  stump_diam curb_loc status health  \\\n",
       "0   180683    348711  08/27/2015         3           0   OnCurb  Alive   Fair   \n",
       "1   200540    315986  09/03/2015        21           0   OnCurb  Alive   Fair   \n",
       "2   204026    218365  09/05/2015         3           0   OnCurb  Alive   Good   \n",
       "3   204337    217969  09/05/2015        10           0   OnCurb  Alive   Good   \n",
       "4   189565    223043  08/30/2015        21           0   OnCurb  Alive   Good   \n",
       "\n",
       "                            spc_latin       spc_common steward guards  \\\n",
       "0                         Acer rubrum        red maple    None   None   \n",
       "1                   Quercus palustris          pin oak    None   None   \n",
       "2  Gleditsia triacanthos var. inermis      honeylocust    1or2   None   \n",
       "3  Gleditsia triacanthos var. inermis      honeylocust    None   None   \n",
       "4                     Tilia americana  American linden    None   None   \n",
       "\n",
       "   sidewalk         user_type problems root_stone root_grate root_other  \\\n",
       "0  NoDamage  TreesCount Staff     None         No         No         No   \n",
       "1    Damage  TreesCount Staff   Stones        Yes         No         No   \n",
       "2    Damage         Volunteer     None         No         No         No   \n",
       "3    Damage         Volunteer   Stones        Yes         No         No   \n",
       "4    Damage         Volunteer   Stones        Yes         No         No   \n",
       "\n",
       "  trunk_wire trnk_light trnk_other brch_light brch_shoe brch_other  \\\n",
       "0         No         No         No         No        No         No   \n",
       "1         No         No         No         No        No         No   \n",
       "2         No         No         No         No        No         No   \n",
       "3         No         No         No         No        No         No   \n",
       "4         No         No         No         No        No         No   \n",
       "\n",
       "             address  postcode      zip_city  community board  borocode  \\\n",
       "0  108-005 70 AVENUE     11375  Forest Hills              406         4   \n",
       "1   147-074 7 AVENUE     11357    Whitestone              407         4   \n",
       "2  390 MORGAN AVENUE     11211      Brooklyn              301         3   \n",
       "3  1027 GRAND STREET     11211      Brooklyn              301         3   \n",
       "4       603 6 STREET     11215      Brooklyn              306         3   \n",
       "\n",
       "    borough  cncldist  st_assem  st_senate   nta            nta_name  boro_ct  \\\n",
       "0    Queens        29        28         16  QN17        Forest Hills  4073900   \n",
       "1    Queens        19        27         11  QN49          Whitestone  4097300   \n",
       "2  Brooklyn        34        50         18  BK90   East Williamsburg  3044900   \n",
       "3  Brooklyn        34        53         18  BK90   East Williamsburg  3044900   \n",
       "4  Brooklyn        39        44         21  BK37  Park Slope-Gowanus  3016500   \n",
       "\n",
       "      state   latitude  longitude         x_sp         y_sp  council district  \\\n",
       "0  New York  40.723092 -73.844215  1027431.148  202756.7687              29.0   \n",
       "1  New York  40.794111 -73.818679  1034455.701  228644.8374              19.0   \n",
       "2  New York  40.717581 -73.936608  1001822.831  200716.8913              34.0   \n",
       "3  New York  40.713537 -73.934456  1002420.358  199244.2531              34.0   \n",
       "4  New York  40.666778 -73.975979   990913.775  182202.4260              39.0   \n",
       "\n",
       "   census tract        bin           bbl  \n",
       "0         739.0  4052307.0  4.022210e+09  \n",
       "1         973.0  4101931.0  4.044750e+09  \n",
       "2         449.0  3338310.0  3.028870e+09  \n",
       "3         449.0  3338342.0  3.029250e+09  \n",
       "4         165.0  3025654.0  3.010850e+09  "
      ]
     },
     "execution_count": 2,
     "metadata": {},
     "output_type": "execute_result"
    }
   ],
   "source": [
    "# Unzip the previously downloaded and compressed CSV file\n",
    "zf = ZipFile('data/2015_street_tree_census.zip', 'r')\n",
    "zf.extractall('data')\n",
    "zf.close()\n",
    "\n",
    "# Load the data into a dataframe\n",
    "trees = pd.read_csv('data/2015_street_tree_census.csv')\n",
    "# Preview the data\n",
    "\n",
    "trees.head(5)"
   ]
  },
  {
   "cell_type": "markdown",
   "metadata": {
    "slideshow": {
     "slide_type": "slide"
    }
   },
   "source": [
    "#### Let's confirm that the dataframe matches the expected dataset record and column count:"
   ]
  },
  {
   "cell_type": "code",
   "execution_count": 3,
   "metadata": {
    "slideshow": {
     "slide_type": "fragment"
    }
   },
   "outputs": [
    {
     "data": {
      "text/plain": [
       "(683788, 45)"
      ]
     },
     "execution_count": 3,
     "metadata": {},
     "output_type": "execute_result"
    }
   ],
   "source": [
    "# Get the dataframe shape\n",
    "trees.shape"
   ]
  },
  {
   "cell_type": "markdown",
   "metadata": {
    "slideshow": {
     "slide_type": "skip"
    }
   },
   "source": [
    "Looking good. As we can see above, there are spaces in some of the column names which are difficult to work with using pandas functions. Let's remove the spaces and covert the column names to lowercase.\n",
    "There are also many columns in here that are not applicable for the analysis to be done. Let's drop them as well:"
   ]
  },
  {
   "cell_type": "code",
   "execution_count": 4,
   "metadata": {
    "slideshow": {
     "slide_type": "skip"
    }
   },
   "outputs": [
    {
     "data": {
      "text/html": [
       "<div>\n",
       "<style scoped>\n",
       "    .dataframe tbody tr th:only-of-type {\n",
       "        vertical-align: middle;\n",
       "    }\n",
       "\n",
       "    .dataframe tbody tr th {\n",
       "        vertical-align: top;\n",
       "    }\n",
       "\n",
       "    .dataframe thead th {\n",
       "        text-align: right;\n",
       "    }\n",
       "</style>\n",
       "<table border=\"1\" class=\"dataframe\">\n",
       "  <thead>\n",
       "    <tr style=\"text-align: right;\">\n",
       "      <th></th>\n",
       "      <th>tree_id</th>\n",
       "      <th>created_at</th>\n",
       "      <th>status</th>\n",
       "      <th>health</th>\n",
       "      <th>spc_latin</th>\n",
       "      <th>spc_common</th>\n",
       "      <th>postcode</th>\n",
       "      <th>borough</th>\n",
       "      <th>latitude</th>\n",
       "      <th>longitude</th>\n",
       "    </tr>\n",
       "  </thead>\n",
       "  <tbody>\n",
       "    <tr>\n",
       "      <th>0</th>\n",
       "      <td>180683</td>\n",
       "      <td>08/27/2015</td>\n",
       "      <td>Alive</td>\n",
       "      <td>Fair</td>\n",
       "      <td>Acer rubrum</td>\n",
       "      <td>red maple</td>\n",
       "      <td>11375</td>\n",
       "      <td>Queens</td>\n",
       "      <td>40.723092</td>\n",
       "      <td>-73.844215</td>\n",
       "    </tr>\n",
       "    <tr>\n",
       "      <th>1</th>\n",
       "      <td>200540</td>\n",
       "      <td>09/03/2015</td>\n",
       "      <td>Alive</td>\n",
       "      <td>Fair</td>\n",
       "      <td>Quercus palustris</td>\n",
       "      <td>pin oak</td>\n",
       "      <td>11357</td>\n",
       "      <td>Queens</td>\n",
       "      <td>40.794111</td>\n",
       "      <td>-73.818679</td>\n",
       "    </tr>\n",
       "    <tr>\n",
       "      <th>2</th>\n",
       "      <td>204026</td>\n",
       "      <td>09/05/2015</td>\n",
       "      <td>Alive</td>\n",
       "      <td>Good</td>\n",
       "      <td>Gleditsia triacanthos var. inermis</td>\n",
       "      <td>honeylocust</td>\n",
       "      <td>11211</td>\n",
       "      <td>Brooklyn</td>\n",
       "      <td>40.717581</td>\n",
       "      <td>-73.936608</td>\n",
       "    </tr>\n",
       "    <tr>\n",
       "      <th>3</th>\n",
       "      <td>204337</td>\n",
       "      <td>09/05/2015</td>\n",
       "      <td>Alive</td>\n",
       "      <td>Good</td>\n",
       "      <td>Gleditsia triacanthos var. inermis</td>\n",
       "      <td>honeylocust</td>\n",
       "      <td>11211</td>\n",
       "      <td>Brooklyn</td>\n",
       "      <td>40.713537</td>\n",
       "      <td>-73.934456</td>\n",
       "    </tr>\n",
       "    <tr>\n",
       "      <th>4</th>\n",
       "      <td>189565</td>\n",
       "      <td>08/30/2015</td>\n",
       "      <td>Alive</td>\n",
       "      <td>Good</td>\n",
       "      <td>Tilia americana</td>\n",
       "      <td>American linden</td>\n",
       "      <td>11215</td>\n",
       "      <td>Brooklyn</td>\n",
       "      <td>40.666778</td>\n",
       "      <td>-73.975979</td>\n",
       "    </tr>\n",
       "  </tbody>\n",
       "</table>\n",
       "</div>"
      ],
      "text/plain": [
       "   tree_id  created_at status health                           spc_latin  \\\n",
       "0   180683  08/27/2015  Alive   Fair                         Acer rubrum   \n",
       "1   200540  09/03/2015  Alive   Fair                   Quercus palustris   \n",
       "2   204026  09/05/2015  Alive   Good  Gleditsia triacanthos var. inermis   \n",
       "3   204337  09/05/2015  Alive   Good  Gleditsia triacanthos var. inermis   \n",
       "4   189565  08/30/2015  Alive   Good                     Tilia americana   \n",
       "\n",
       "        spc_common  postcode   borough   latitude  longitude  \n",
       "0        red maple     11375    Queens  40.723092 -73.844215  \n",
       "1          pin oak     11357    Queens  40.794111 -73.818679  \n",
       "2      honeylocust     11211  Brooklyn  40.717581 -73.936608  \n",
       "3      honeylocust     11211  Brooklyn  40.713537 -73.934456  \n",
       "4  American linden     11215  Brooklyn  40.666778 -73.975979  "
      ]
     },
     "execution_count": 4,
     "metadata": {},
     "output_type": "execute_result"
    }
   ],
   "source": [
    "# Get the current column names use a lambda to replace spaces with underscores and change them to lowercase\n",
    "cols = trees.columns\n",
    "cols = cols.map(lambda x: x.replace(' ', '_').lower())\n",
    "trees.columns = cols\n",
    "\n",
    "# Drop the unnecessary columns\n",
    "trees = trees.drop([  'block_id',\n",
    "                      'tree_dbh',\n",
    "                      'stump_diam',\n",
    "                      'curb_loc',\n",
    "                      'steward',\n",
    "                      'guards',\n",
    "                      'sidewalk',\n",
    "                      'user_type',\n",
    "                      'problems',\n",
    "                      'root_stone',\n",
    "                      'root_grate',\n",
    "                      'root_other',\n",
    "                      'trunk_wire',\n",
    "                      'trnk_light',\n",
    "                      'trnk_other',\n",
    "                      'brch_light',\n",
    "                      'brch_shoe',\n",
    "                      'brch_other',\n",
    "                      'address',\n",
    "                      'zip_city',\n",
    "                      'community_board',\n",
    "                      'borocode',\n",
    "                      'cncldist',\n",
    "                      'st_assem',\n",
    "                      'st_senate',\n",
    "                      'nta',\n",
    "                      'nta_name',\n",
    "                      'boro_ct',\n",
    "                      'state',\n",
    "                      'x_sp',\n",
    "                      'y_sp',\n",
    "                      'council_district',\n",
    "                      'zip_city',\n",
    "                      'community_board',\n",
    "                      'census_tract',\n",
    "                      'bin',\n",
    "                      'bbl'\n",
    "                     ], axis=1)\n",
    "\n",
    "# Preview the data\n",
    "trees.head(5)"
   ]
  },
  {
   "cell_type": "markdown",
   "metadata": {
    "slideshow": {
     "slide_type": "skip"
    }
   },
   "source": [
    "Now that we've transformed the dataset, let's move onto the next dataset."
   ]
  },
  {
   "cell_type": "markdown",
   "metadata": {
    "slideshow": {
     "slide_type": "slide"
    }
   },
   "source": [
    "## Dataset 2: Forestry Service Requests\n",
    "\n",
    "The Forestry Service Requests dataset is available at https://data.cityofnewyork.us/Environment/Forestry-Service-Requests/mu46-p9is.\n",
    "\n",
    "The source dataset has 429,000 rows and 47 columns. We will download the source dataset in it's entirety. API documentation is available at https://dev.socrata.com/foundry/data.cityofnewyork.us/mu46-p9is. The dataset CSV export URL is https://data.cityofnewyork.us/api/views/mu46-p9is/rows.csv?accessType=DOWNLOAD.\n",
    "\n",
    "\n",
    "Let's unzip and load the data into pandas:"
   ]
  },
  {
   "cell_type": "code",
   "execution_count": 5,
   "metadata": {
    "slideshow": {
     "slide_type": "subslide"
    }
   },
   "outputs": [
    {
     "data": {
      "text/html": [
       "<div>\n",
       "<style scoped>\n",
       "    .dataframe tbody tr th:only-of-type {\n",
       "        vertical-align: middle;\n",
       "    }\n",
       "\n",
       "    .dataframe tbody tr th {\n",
       "        vertical-align: top;\n",
       "    }\n",
       "\n",
       "    .dataframe thead th {\n",
       "        text-align: right;\n",
       "    }\n",
       "</style>\n",
       "<table border=\"1\" class=\"dataframe\">\n",
       "  <thead>\n",
       "    <tr style=\"text-align: right;\">\n",
       "      <th></th>\n",
       "      <th>objectid</th>\n",
       "      <th>complaintnumber</th>\n",
       "      <th>srcategory</th>\n",
       "      <th>srtype</th>\n",
       "      <th>srpriority</th>\n",
       "      <th>srsource</th>\n",
       "      <th>srstatus</th>\n",
       "      <th>srresolution</th>\n",
       "      <th>boroughcode</th>\n",
       "      <th>communityboard</th>\n",
       "      <th>buildingnumber</th>\n",
       "      <th>streetname</th>\n",
       "      <th>crossstreet1</th>\n",
       "      <th>crossstreet2</th>\n",
       "      <th>taxclass</th>\n",
       "      <th>locationdetails</th>\n",
       "      <th>complaintdetails</th>\n",
       "      <th>parkname</th>\n",
       "      <th>parkzone</th>\n",
       "      <th>notestocustomer</th>\n",
       "      <th>zipcode</th>\n",
       "      <th>citycouncil</th>\n",
       "      <th>statesenate</th>\n",
       "      <th>stateassembly</th>\n",
       "      <th>congressional</th>\n",
       "      <th>sanitationzone</th>\n",
       "      <th>physicalid</th>\n",
       "      <th>servicerequestparentglobalid</th>\n",
       "      <th>geometry</th>\n",
       "      <th>globalid</th>\n",
       "      <th>initiateddate</th>\n",
       "      <th>closeddate</th>\n",
       "      <th>createddate</th>\n",
       "      <th>updateddate</th>\n",
       "      <th>descriptor1</th>\n",
       "      <th>complainttype</th>\n",
       "      <th>callerzipcode</th>\n",
       "      <th>srcallertype</th>\n",
       "      <th>callercity</th>\n",
       "      <th>callerstate</th>\n",
       "      <th>latitude</th>\n",
       "      <th>longitude</th>\n",
       "      <th>census_tract</th>\n",
       "      <th>bin</th>\n",
       "      <th>bbl</th>\n",
       "      <th>nta</th>\n",
       "      <th>location</th>\n",
       "    </tr>\n",
       "  </thead>\n",
       "  <tbody>\n",
       "    <tr>\n",
       "      <th>0</th>\n",
       "      <td>15829940</td>\n",
       "      <td>311-01062192</td>\n",
       "      <td>Hazard</td>\n",
       "      <td>Tree Leaning</td>\n",
       "      <td>Routine</td>\n",
       "      <td>Department of Parks and Recreation - Public We...</td>\n",
       "      <td>Closed</td>\n",
       "      <td>Work Completed</td>\n",
       "      <td>Manhattan</td>\n",
       "      <td>112.0</td>\n",
       "      <td>340</td>\n",
       "      <td>HAVEN AVENUE</td>\n",
       "      <td>CROSS BRONX EXPWY SB ET    1 A</td>\n",
       "      <td>CROSS BRONX EXPWY SB ET    1 A</td>\n",
       "      <td>2.0</td>\n",
       "      <td>the tree is located on the north side of the 3...</td>\n",
       "      <td>NaN</td>\n",
       "      <td>NaN</td>\n",
       "      <td>NaN</td>\n",
       "      <td>Limb has been removed</td>\n",
       "      <td>10033.0</td>\n",
       "      <td>10.0</td>\n",
       "      <td>31.0</td>\n",
       "      <td>71.0</td>\n",
       "      <td>13.0</td>\n",
       "      <td>NaN</td>\n",
       "      <td>27926.0</td>\n",
       "      <td>NaN</td>\n",
       "      <td>NaN</td>\n",
       "      <td>BE71B4BB-F659-4B13-8820-AACF4F95BE4A</td>\n",
       "      <td>11/05/2019 21:26:46</td>\n",
       "      <td>11/07/2019 19:42:00</td>\n",
       "      <td>11/05/2019 21:26:00</td>\n",
       "      <td>11/07/2019 19:42:00</td>\n",
       "      <td>Tree Leaning/Uprooted</td>\n",
       "      <td>Damaged Tree</td>\n",
       "      <td>10003</td>\n",
       "      <td>Business  Business</td>\n",
       "      <td>New York</td>\n",
       "      <td>New York</td>\n",
       "      <td>40.850912</td>\n",
       "      <td>-73.941544</td>\n",
       "      <td>265.0</td>\n",
       "      <td>1079979.0</td>\n",
       "      <td>1.021770e+09</td>\n",
       "      <td>Washington Heights South</td>\n",
       "      <td>NaN</td>\n",
       "    </tr>\n",
       "    <tr>\n",
       "      <th>1</th>\n",
       "      <td>105235</td>\n",
       "      <td>1-1-1077952256</td>\n",
       "      <td>Hazard</td>\n",
       "      <td>Hanging Limb from other Branches</td>\n",
       "      <td>Routine</td>\n",
       "      <td>3-1-1 Call Center</td>\n",
       "      <td>Closed</td>\n",
       "      <td>Inspected - Condition Not Found</td>\n",
       "      <td>Queens</td>\n",
       "      <td>410.0</td>\n",
       "      <td>90-07</td>\n",
       "      <td>159 AVENUE</td>\n",
       "      <td>90 STREET</td>\n",
       "      <td>91 STREET</td>\n",
       "      <td>NaN</td>\n",
       "      <td>CONDITION UNFOUNDED</td>\n",
       "      <td>RIGHT SIDE OF TREE BRANCHES ARE CRACKED AND AB...</td>\n",
       "      <td>NaN</td>\n",
       "      <td>NaN</td>\n",
       "      <td>CONDITION UNFOUNDED</td>\n",
       "      <td>11414.0</td>\n",
       "      <td>32.0</td>\n",
       "      <td>15.0</td>\n",
       "      <td>23.0</td>\n",
       "      <td>8.0</td>\n",
       "      <td>NaN</td>\n",
       "      <td>29668.0</td>\n",
       "      <td>NaN</td>\n",
       "      <td>NaN</td>\n",
       "      <td>F9B71AA3-0E17-40E2-BC36-3DCC80329DA4</td>\n",
       "      <td>03/12/2015 18:47:52</td>\n",
       "      <td>03/19/2015 04:00:00</td>\n",
       "      <td>03/12/2015 04:00:00</td>\n",
       "      <td>03/19/2015 04:00:00</td>\n",
       "      <td>Branch Cracked and Will Fall</td>\n",
       "      <td>Damaged Tree</td>\n",
       "      <td>NaN</td>\n",
       "      <td>NaN</td>\n",
       "      <td>NaN</td>\n",
       "      <td>NaN</td>\n",
       "      <td>40.658802</td>\n",
       "      <td>-73.842531</td>\n",
       "      <td>892.0</td>\n",
       "      <td>4293012.0</td>\n",
       "      <td>4.139890e+09</td>\n",
       "      <td>Lindenwood-Howard Beach</td>\n",
       "      <td>NaN</td>\n",
       "    </tr>\n",
       "    <tr>\n",
       "      <th>2</th>\n",
       "      <td>15852995</td>\n",
       "      <td>311-01114710</td>\n",
       "      <td>Plant Tree</td>\n",
       "      <td>Street Tree</td>\n",
       "      <td>Routine</td>\n",
       "      <td>Department of Parks and Recreation - Public We...</td>\n",
       "      <td>Open</td>\n",
       "      <td>NaN</td>\n",
       "      <td>Brooklyn</td>\n",
       "      <td>303.0</td>\n",
       "      <td>60</td>\n",
       "      <td>VAN BUREN STREET</td>\n",
       "      <td>TOMPKINS AVENUE</td>\n",
       "      <td>THROOP AVENUE</td>\n",
       "      <td>1.0</td>\n",
       "      <td>NaN</td>\n",
       "      <td>NaN</td>\n",
       "      <td>NaN</td>\n",
       "      <td>NaN</td>\n",
       "      <td>NaN</td>\n",
       "      <td>11221.0</td>\n",
       "      <td>36.0</td>\n",
       "      <td>25.0</td>\n",
       "      <td>56.0</td>\n",
       "      <td>8.0</td>\n",
       "      <td>NaN</td>\n",
       "      <td>85463.0</td>\n",
       "      <td>NaN</td>\n",
       "      <td>NaN</td>\n",
       "      <td>51295F52-4873-4471-BA45-45ED4612B622</td>\n",
       "      <td>11/11/2019 17:04:25</td>\n",
       "      <td>NaN</td>\n",
       "      <td>11/11/2019 17:04:25</td>\n",
       "      <td>NaN</td>\n",
       "      <td>For One Address</td>\n",
       "      <td>New Tree Request</td>\n",
       "      <td>11221</td>\n",
       "      <td>NaN</td>\n",
       "      <td>Brooklyn</td>\n",
       "      <td>NY</td>\n",
       "      <td>40.690047</td>\n",
       "      <td>-73.943301</td>\n",
       "      <td>263.0</td>\n",
       "      <td>3050233.0</td>\n",
       "      <td>3.017950e+09</td>\n",
       "      <td>Bedford</td>\n",
       "      <td>NaN</td>\n",
       "    </tr>\n",
       "    <tr>\n",
       "      <th>3</th>\n",
       "      <td>9470373</td>\n",
       "      <td>NaN</td>\n",
       "      <td>Hazard</td>\n",
       "      <td>Hanging Limb</td>\n",
       "      <td>Routine</td>\n",
       "      <td>Park Inspection Program</td>\n",
       "      <td>Closed</td>\n",
       "      <td>Work Completed</td>\n",
       "      <td>Bronx</td>\n",
       "      <td>211.0</td>\n",
       "      <td>/</td>\n",
       "      <td>/</td>\n",
       "      <td>NaN</td>\n",
       "      <td>NaN</td>\n",
       "      <td>NaN</td>\n",
       "      <td>dia 96182- dangling over benches at Barnes Ave...</td>\n",
       "      <td>NaN</td>\n",
       "      <td>Pelham Parkway</td>\n",
       "      <td>X003-ZN01</td>\n",
       "      <td>hanging limb and tree have been removed</td>\n",
       "      <td>NaN</td>\n",
       "      <td>NaN</td>\n",
       "      <td>NaN</td>\n",
       "      <td>NaN</td>\n",
       "      <td>NaN</td>\n",
       "      <td>NaN</td>\n",
       "      <td>NaN</td>\n",
       "      <td>NaN</td>\n",
       "      <td>NaN</td>\n",
       "      <td>6CB7B7C8-4AC5-4602-82A5-81679C27267F</td>\n",
       "      <td>NaN</td>\n",
       "      <td>05/02/2018 12:22:27</td>\n",
       "      <td>11/01/2017 15:13:00</td>\n",
       "      <td>05/02/2018 12:22:27</td>\n",
       "      <td>NaN</td>\n",
       "      <td>NaN</td>\n",
       "      <td>NaN</td>\n",
       "      <td>NaN</td>\n",
       "      <td>NaN</td>\n",
       "      <td>NaN</td>\n",
       "      <td>NaN</td>\n",
       "      <td>NaN</td>\n",
       "      <td>NaN</td>\n",
       "      <td>NaN</td>\n",
       "      <td>NaN</td>\n",
       "      <td>NaN</td>\n",
       "      <td>NaN</td>\n",
       "    </tr>\n",
       "    <tr>\n",
       "      <th>4</th>\n",
       "      <td>15813147</td>\n",
       "      <td>311-01026496</td>\n",
       "      <td>Root/Sewer/Sidewalk</td>\n",
       "      <td>Trees and Sidewalks</td>\n",
       "      <td>Routine</td>\n",
       "      <td>3-1-1 Call Center</td>\n",
       "      <td>Open</td>\n",
       "      <td>NaN</td>\n",
       "      <td>Bronx</td>\n",
       "      <td>211.0</td>\n",
       "      <td>2730</td>\n",
       "      <td>LURTING AVENUE</td>\n",
       "      <td>ALLERTON AVENUE</td>\n",
       "      <td>ARNOW AVENUE</td>\n",
       "      <td>NaN</td>\n",
       "      <td>NaN</td>\n",
       "      <td>THIS TREE IS LEANING AND INTO MY PROPERTY AND ...</td>\n",
       "      <td>NaN</td>\n",
       "      <td>NaN</td>\n",
       "      <td>NaN</td>\n",
       "      <td>10469.0</td>\n",
       "      <td>13.0</td>\n",
       "      <td>36.0</td>\n",
       "      <td>80.0</td>\n",
       "      <td>14.0</td>\n",
       "      <td>NaN</td>\n",
       "      <td>86779.0</td>\n",
       "      <td>NaN</td>\n",
       "      <td>NaN</td>\n",
       "      <td>13C04CAC-B979-4782-82A2-CACC31D583C3</td>\n",
       "      <td>11/01/2019 21:19:08</td>\n",
       "      <td>NaN</td>\n",
       "      <td>11/01/2019 21:23:48</td>\n",
       "      <td>NaN</td>\n",
       "      <td>Trees and Sidewalks Program</td>\n",
       "      <td>Root/Sewer/Sidewalk Condition</td>\n",
       "      <td>10469</td>\n",
       "      <td>NaN</td>\n",
       "      <td>BRONX</td>\n",
       "      <td>NY</td>\n",
       "      <td>40.866033</td>\n",
       "      <td>-73.856763</td>\n",
       "      <td>344.0</td>\n",
       "      <td>2053968.0</td>\n",
       "      <td>2.045200e+09</td>\n",
       "      <td>Allerton-Pelham Gardens</td>\n",
       "      <td>NaN</td>\n",
       "    </tr>\n",
       "  </tbody>\n",
       "</table>\n",
       "</div>"
      ],
      "text/plain": [
       "   objectid complaintnumber           srcategory  \\\n",
       "0  15829940    311-01062192               Hazard   \n",
       "1    105235  1-1-1077952256               Hazard   \n",
       "2  15852995    311-01114710           Plant Tree   \n",
       "3   9470373             NaN               Hazard   \n",
       "4  15813147    311-01026496  Root/Sewer/Sidewalk   \n",
       "\n",
       "                             srtype srpriority  \\\n",
       "0                      Tree Leaning    Routine   \n",
       "1  Hanging Limb from other Branches    Routine   \n",
       "2                       Street Tree    Routine   \n",
       "3                      Hanging Limb    Routine   \n",
       "4               Trees and Sidewalks    Routine   \n",
       "\n",
       "                                            srsource srstatus  \\\n",
       "0  Department of Parks and Recreation - Public We...   Closed   \n",
       "1                                  3-1-1 Call Center   Closed   \n",
       "2  Department of Parks and Recreation - Public We...     Open   \n",
       "3                            Park Inspection Program   Closed   \n",
       "4                                  3-1-1 Call Center     Open   \n",
       "\n",
       "                      srresolution boroughcode  communityboard buildingnumber  \\\n",
       "0                   Work Completed   Manhattan           112.0            340   \n",
       "1  Inspected - Condition Not Found      Queens           410.0          90-07   \n",
       "2                              NaN    Brooklyn           303.0             60   \n",
       "3                   Work Completed       Bronx           211.0              /   \n",
       "4                              NaN       Bronx           211.0           2730   \n",
       "\n",
       "         streetname                    crossstreet1  \\\n",
       "0      HAVEN AVENUE  CROSS BRONX EXPWY SB ET    1 A   \n",
       "1        159 AVENUE                       90 STREET   \n",
       "2  VAN BUREN STREET                 TOMPKINS AVENUE   \n",
       "3                 /                             NaN   \n",
       "4    LURTING AVENUE                 ALLERTON AVENUE   \n",
       "\n",
       "                     crossstreet2  taxclass  \\\n",
       "0  CROSS BRONX EXPWY SB ET    1 A       2.0   \n",
       "1                       91 STREET       NaN   \n",
       "2                   THROOP AVENUE       1.0   \n",
       "3                             NaN       NaN   \n",
       "4                    ARNOW AVENUE       NaN   \n",
       "\n",
       "                                     locationdetails  \\\n",
       "0  the tree is located on the north side of the 3...   \n",
       "1                                CONDITION UNFOUNDED   \n",
       "2                                                NaN   \n",
       "3  dia 96182- dangling over benches at Barnes Ave...   \n",
       "4                                                NaN   \n",
       "\n",
       "                                    complaintdetails        parkname  \\\n",
       "0                                                NaN             NaN   \n",
       "1  RIGHT SIDE OF TREE BRANCHES ARE CRACKED AND AB...             NaN   \n",
       "2                                                NaN             NaN   \n",
       "3                                                NaN  Pelham Parkway   \n",
       "4  THIS TREE IS LEANING AND INTO MY PROPERTY AND ...             NaN   \n",
       "\n",
       "    parkzone                          notestocustomer  zipcode  citycouncil  \\\n",
       "0        NaN                    Limb has been removed  10033.0         10.0   \n",
       "1        NaN                      CONDITION UNFOUNDED  11414.0         32.0   \n",
       "2        NaN                                      NaN  11221.0         36.0   \n",
       "3  X003-ZN01  hanging limb and tree have been removed      NaN          NaN   \n",
       "4        NaN                                      NaN  10469.0         13.0   \n",
       "\n",
       "   statesenate  stateassembly  congressional  sanitationzone  physicalid  \\\n",
       "0         31.0           71.0           13.0             NaN     27926.0   \n",
       "1         15.0           23.0            8.0             NaN     29668.0   \n",
       "2         25.0           56.0            8.0             NaN     85463.0   \n",
       "3          NaN            NaN            NaN             NaN         NaN   \n",
       "4         36.0           80.0           14.0             NaN     86779.0   \n",
       "\n",
       "  servicerequestparentglobalid  geometry  \\\n",
       "0                          NaN       NaN   \n",
       "1                          NaN       NaN   \n",
       "2                          NaN       NaN   \n",
       "3                          NaN       NaN   \n",
       "4                          NaN       NaN   \n",
       "\n",
       "                               globalid        initiateddate  \\\n",
       "0  BE71B4BB-F659-4B13-8820-AACF4F95BE4A  11/05/2019 21:26:46   \n",
       "1  F9B71AA3-0E17-40E2-BC36-3DCC80329DA4  03/12/2015 18:47:52   \n",
       "2  51295F52-4873-4471-BA45-45ED4612B622  11/11/2019 17:04:25   \n",
       "3  6CB7B7C8-4AC5-4602-82A5-81679C27267F                  NaN   \n",
       "4  13C04CAC-B979-4782-82A2-CACC31D583C3  11/01/2019 21:19:08   \n",
       "\n",
       "            closeddate          createddate          updateddate  \\\n",
       "0  11/07/2019 19:42:00  11/05/2019 21:26:00  11/07/2019 19:42:00   \n",
       "1  03/19/2015 04:00:00  03/12/2015 04:00:00  03/19/2015 04:00:00   \n",
       "2                  NaN  11/11/2019 17:04:25                  NaN   \n",
       "3  05/02/2018 12:22:27  11/01/2017 15:13:00  05/02/2018 12:22:27   \n",
       "4                  NaN  11/01/2019 21:23:48                  NaN   \n",
       "\n",
       "                    descriptor1                  complainttype callerzipcode  \\\n",
       "0         Tree Leaning/Uprooted                   Damaged Tree         10003   \n",
       "1  Branch Cracked and Will Fall                   Damaged Tree           NaN   \n",
       "2               For One Address               New Tree Request         11221   \n",
       "3                           NaN                            NaN           NaN   \n",
       "4   Trees and Sidewalks Program  Root/Sewer/Sidewalk Condition         10469   \n",
       "\n",
       "         srcallertype callercity callerstate   latitude  longitude  \\\n",
       "0  Business  Business   New York    New York  40.850912 -73.941544   \n",
       "1                 NaN        NaN         NaN  40.658802 -73.842531   \n",
       "2                 NaN   Brooklyn          NY  40.690047 -73.943301   \n",
       "3                 NaN        NaN         NaN        NaN        NaN   \n",
       "4                 NaN      BRONX          NY  40.866033 -73.856763   \n",
       "\n",
       "   census_tract        bin           bbl                       nta  location  \n",
       "0         265.0  1079979.0  1.021770e+09  Washington Heights South       NaN  \n",
       "1         892.0  4293012.0  4.139890e+09   Lindenwood-Howard Beach       NaN  \n",
       "2         263.0  3050233.0  3.017950e+09                   Bedford       NaN  \n",
       "3           NaN        NaN           NaN                       NaN       NaN  \n",
       "4         344.0  2053968.0  2.045200e+09   Allerton-Pelham Gardens       NaN  "
      ]
     },
     "execution_count": 5,
     "metadata": {},
     "output_type": "execute_result"
    }
   ],
   "source": [
    "# Unzip the previously downloaded and compressed CSV file\n",
    "zf = ZipFile('data/forestry_service_requests.zip', 'r')\n",
    "zf.extractall('data')\n",
    "zf.close()\n",
    "\n",
    "# Load the data into a dataframe\n",
    "service_requests = pd.read_csv('data/forestry_service_requests.csv')\n",
    "# Preview the data\n",
    "service_requests.head(5)"
   ]
  },
  {
   "cell_type": "markdown",
   "metadata": {
    "slideshow": {
     "slide_type": "slide"
    }
   },
   "source": [
    "#### Let's confirm that the dataframe matches the expected dataset record and column count:"
   ]
  },
  {
   "cell_type": "code",
   "execution_count": 6,
   "metadata": {
    "slideshow": {
     "slide_type": "fragment"
    }
   },
   "outputs": [
    {
     "data": {
      "text/plain": [
       "(429425, 47)"
      ]
     },
     "execution_count": 6,
     "metadata": {},
     "output_type": "execute_result"
    }
   ],
   "source": [
    "# Get the dataframe shape\n",
    "service_requests.shape"
   ]
  },
  {
   "cell_type": "markdown",
   "metadata": {
    "slideshow": {
     "slide_type": "skip"
    }
   },
   "source": [
    "Looking good. There are many columns in here that are not applicable for the analysis to be done. Let's drop them:"
   ]
  },
  {
   "cell_type": "code",
   "execution_count": 7,
   "metadata": {
    "slideshow": {
     "slide_type": "skip"
    }
   },
   "outputs": [
    {
     "data": {
      "text/html": [
       "<div>\n",
       "<style scoped>\n",
       "    .dataframe tbody tr th:only-of-type {\n",
       "        vertical-align: middle;\n",
       "    }\n",
       "\n",
       "    .dataframe tbody tr th {\n",
       "        vertical-align: top;\n",
       "    }\n",
       "\n",
       "    .dataframe thead th {\n",
       "        text-align: right;\n",
       "    }\n",
       "</style>\n",
       "<table border=\"1\" class=\"dataframe\">\n",
       "  <thead>\n",
       "    <tr style=\"text-align: right;\">\n",
       "      <th></th>\n",
       "      <th>srtype</th>\n",
       "      <th>srstatus</th>\n",
       "      <th>boroughcode</th>\n",
       "      <th>zipcode</th>\n",
       "      <th>closeddate</th>\n",
       "      <th>createddate</th>\n",
       "      <th>updateddate</th>\n",
       "      <th>complainttype</th>\n",
       "      <th>latitude</th>\n",
       "      <th>longitude</th>\n",
       "    </tr>\n",
       "  </thead>\n",
       "  <tbody>\n",
       "    <tr>\n",
       "      <th>0</th>\n",
       "      <td>Tree Leaning</td>\n",
       "      <td>Closed</td>\n",
       "      <td>Manhattan</td>\n",
       "      <td>10033.0</td>\n",
       "      <td>11/07/2019 19:42:00</td>\n",
       "      <td>11/05/2019 21:26:00</td>\n",
       "      <td>11/07/2019 19:42:00</td>\n",
       "      <td>Damaged Tree</td>\n",
       "      <td>40.850912</td>\n",
       "      <td>-73.941544</td>\n",
       "    </tr>\n",
       "    <tr>\n",
       "      <th>1</th>\n",
       "      <td>Hanging Limb from other Branches</td>\n",
       "      <td>Closed</td>\n",
       "      <td>Queens</td>\n",
       "      <td>11414.0</td>\n",
       "      <td>03/19/2015 04:00:00</td>\n",
       "      <td>03/12/2015 04:00:00</td>\n",
       "      <td>03/19/2015 04:00:00</td>\n",
       "      <td>Damaged Tree</td>\n",
       "      <td>40.658802</td>\n",
       "      <td>-73.842531</td>\n",
       "    </tr>\n",
       "    <tr>\n",
       "      <th>2</th>\n",
       "      <td>Street Tree</td>\n",
       "      <td>Open</td>\n",
       "      <td>Brooklyn</td>\n",
       "      <td>11221.0</td>\n",
       "      <td>NaN</td>\n",
       "      <td>11/11/2019 17:04:25</td>\n",
       "      <td>NaN</td>\n",
       "      <td>New Tree Request</td>\n",
       "      <td>40.690047</td>\n",
       "      <td>-73.943301</td>\n",
       "    </tr>\n",
       "    <tr>\n",
       "      <th>3</th>\n",
       "      <td>Hanging Limb</td>\n",
       "      <td>Closed</td>\n",
       "      <td>Bronx</td>\n",
       "      <td>NaN</td>\n",
       "      <td>05/02/2018 12:22:27</td>\n",
       "      <td>11/01/2017 15:13:00</td>\n",
       "      <td>05/02/2018 12:22:27</td>\n",
       "      <td>NaN</td>\n",
       "      <td>NaN</td>\n",
       "      <td>NaN</td>\n",
       "    </tr>\n",
       "    <tr>\n",
       "      <th>4</th>\n",
       "      <td>Trees and Sidewalks</td>\n",
       "      <td>Open</td>\n",
       "      <td>Bronx</td>\n",
       "      <td>10469.0</td>\n",
       "      <td>NaN</td>\n",
       "      <td>11/01/2019 21:23:48</td>\n",
       "      <td>NaN</td>\n",
       "      <td>Root/Sewer/Sidewalk Condition</td>\n",
       "      <td>40.866033</td>\n",
       "      <td>-73.856763</td>\n",
       "    </tr>\n",
       "  </tbody>\n",
       "</table>\n",
       "</div>"
      ],
      "text/plain": [
       "                             srtype srstatus boroughcode  zipcode  \\\n",
       "0                      Tree Leaning   Closed   Manhattan  10033.0   \n",
       "1  Hanging Limb from other Branches   Closed      Queens  11414.0   \n",
       "2                       Street Tree     Open    Brooklyn  11221.0   \n",
       "3                      Hanging Limb   Closed       Bronx      NaN   \n",
       "4               Trees and Sidewalks     Open       Bronx  10469.0   \n",
       "\n",
       "            closeddate          createddate          updateddate  \\\n",
       "0  11/07/2019 19:42:00  11/05/2019 21:26:00  11/07/2019 19:42:00   \n",
       "1  03/19/2015 04:00:00  03/12/2015 04:00:00  03/19/2015 04:00:00   \n",
       "2                  NaN  11/11/2019 17:04:25                  NaN   \n",
       "3  05/02/2018 12:22:27  11/01/2017 15:13:00  05/02/2018 12:22:27   \n",
       "4                  NaN  11/01/2019 21:23:48                  NaN   \n",
       "\n",
       "                   complainttype   latitude  longitude  \n",
       "0                   Damaged Tree  40.850912 -73.941544  \n",
       "1                   Damaged Tree  40.658802 -73.842531  \n",
       "2               New Tree Request  40.690047 -73.943301  \n",
       "3                            NaN        NaN        NaN  \n",
       "4  Root/Sewer/Sidewalk Condition  40.866033 -73.856763  "
      ]
     },
     "execution_count": 7,
     "metadata": {},
     "output_type": "execute_result"
    }
   ],
   "source": [
    "# Drop the unnecessary columns\n",
    "service_requests = service_requests.drop(['objectid',\n",
    "                                          'complaintnumber',\n",
    "                                          'srcategory',\n",
    "                                          'complaintdetails',\n",
    "                                          'srpriority',\n",
    "                                          'srsource',\n",
    "                                          'srresolution',\n",
    "                                          'communityboard',\n",
    "                                          'buildingnumber',\n",
    "                                          'streetname',\n",
    "                                          'crossstreet1',\n",
    "                                          'crossstreet2',\n",
    "                                          'taxclass',\n",
    "                                          'locationdetails',\n",
    "                                          'parkname',\n",
    "                                          'parkzone',\n",
    "                                          'notestocustomer',\n",
    "                                          'citycouncil',\n",
    "                                          'statesenate',\n",
    "                                          'stateassembly',\n",
    "                                          'congressional',\n",
    "                                          'sanitationzone',\n",
    "                                          'servicerequestparentglobalid',\n",
    "                                          'geometry',\n",
    "                                          'globalid',\n",
    "                                          'initiateddate',\n",
    "                                          'callerzipcode',\n",
    "                                          'descriptor1',\n",
    "                                          'srcallertype',\n",
    "                                          'callercity',\n",
    "                                          'callerstate',\n",
    "                                          'census_tract',\n",
    "                                          'bin',\n",
    "                                          'bbl',\n",
    "                                          'nta',\n",
    "                                          'location',\n",
    "                                          'physicalid'\n",
    "                                         ], axis=1)\n",
    "\n",
    "# Preview the data\n",
    "service_requests.head(5)"
   ]
  },
  {
   "cell_type": "markdown",
   "metadata": {
    "slideshow": {
     "slide_type": "slide"
    }
   },
   "source": [
    "#### Now let's transform the createddate, closeddate, and updateddate columns into proper datetime objects. This will take a few moments to complete as there are 429K records:"
   ]
  },
  {
   "cell_type": "code",
   "execution_count": 8,
   "metadata": {
    "slideshow": {
     "slide_type": "fragment"
    }
   },
   "outputs": [
    {
     "data": {
      "text/html": [
       "<div>\n",
       "<style scoped>\n",
       "    .dataframe tbody tr th:only-of-type {\n",
       "        vertical-align: middle;\n",
       "    }\n",
       "\n",
       "    .dataframe tbody tr th {\n",
       "        vertical-align: top;\n",
       "    }\n",
       "\n",
       "    .dataframe thead th {\n",
       "        text-align: right;\n",
       "    }\n",
       "</style>\n",
       "<table border=\"1\" class=\"dataframe\">\n",
       "  <thead>\n",
       "    <tr style=\"text-align: right;\">\n",
       "      <th></th>\n",
       "      <th>srtype</th>\n",
       "      <th>srstatus</th>\n",
       "      <th>boroughcode</th>\n",
       "      <th>zipcode</th>\n",
       "      <th>closeddate</th>\n",
       "      <th>createddate</th>\n",
       "      <th>updateddate</th>\n",
       "      <th>complainttype</th>\n",
       "      <th>latitude</th>\n",
       "      <th>longitude</th>\n",
       "    </tr>\n",
       "  </thead>\n",
       "  <tbody>\n",
       "    <tr>\n",
       "      <th>0</th>\n",
       "      <td>Tree Leaning</td>\n",
       "      <td>Closed</td>\n",
       "      <td>Manhattan</td>\n",
       "      <td>10033.0</td>\n",
       "      <td>2019-11-07 19:42:00</td>\n",
       "      <td>2019-11-05 21:26:00</td>\n",
       "      <td>2019-11-07 19:42:00</td>\n",
       "      <td>Damaged Tree</td>\n",
       "      <td>40.850912</td>\n",
       "      <td>-73.941544</td>\n",
       "    </tr>\n",
       "    <tr>\n",
       "      <th>1</th>\n",
       "      <td>Hanging Limb from other Branches</td>\n",
       "      <td>Closed</td>\n",
       "      <td>Queens</td>\n",
       "      <td>11414.0</td>\n",
       "      <td>2015-03-19 04:00:00</td>\n",
       "      <td>2015-03-12 04:00:00</td>\n",
       "      <td>2015-03-19 04:00:00</td>\n",
       "      <td>Damaged Tree</td>\n",
       "      <td>40.658802</td>\n",
       "      <td>-73.842531</td>\n",
       "    </tr>\n",
       "    <tr>\n",
       "      <th>2</th>\n",
       "      <td>Street Tree</td>\n",
       "      <td>Open</td>\n",
       "      <td>Brooklyn</td>\n",
       "      <td>11221.0</td>\n",
       "      <td>NaT</td>\n",
       "      <td>2019-11-11 17:04:25</td>\n",
       "      <td>NaT</td>\n",
       "      <td>New Tree Request</td>\n",
       "      <td>40.690047</td>\n",
       "      <td>-73.943301</td>\n",
       "    </tr>\n",
       "    <tr>\n",
       "      <th>3</th>\n",
       "      <td>Hanging Limb</td>\n",
       "      <td>Closed</td>\n",
       "      <td>Bronx</td>\n",
       "      <td>NaN</td>\n",
       "      <td>2018-05-02 12:22:27</td>\n",
       "      <td>2017-11-01 15:13:00</td>\n",
       "      <td>2018-05-02 12:22:27</td>\n",
       "      <td>NaN</td>\n",
       "      <td>NaN</td>\n",
       "      <td>NaN</td>\n",
       "    </tr>\n",
       "    <tr>\n",
       "      <th>4</th>\n",
       "      <td>Trees and Sidewalks</td>\n",
       "      <td>Open</td>\n",
       "      <td>Bronx</td>\n",
       "      <td>10469.0</td>\n",
       "      <td>NaT</td>\n",
       "      <td>2019-11-01 21:23:48</td>\n",
       "      <td>NaT</td>\n",
       "      <td>Root/Sewer/Sidewalk Condition</td>\n",
       "      <td>40.866033</td>\n",
       "      <td>-73.856763</td>\n",
       "    </tr>\n",
       "  </tbody>\n",
       "</table>\n",
       "</div>"
      ],
      "text/plain": [
       "                             srtype srstatus boroughcode  zipcode  \\\n",
       "0                      Tree Leaning   Closed   Manhattan  10033.0   \n",
       "1  Hanging Limb from other Branches   Closed      Queens  11414.0   \n",
       "2                       Street Tree     Open    Brooklyn  11221.0   \n",
       "3                      Hanging Limb   Closed       Bronx      NaN   \n",
       "4               Trees and Sidewalks     Open       Bronx  10469.0   \n",
       "\n",
       "           closeddate         createddate         updateddate  \\\n",
       "0 2019-11-07 19:42:00 2019-11-05 21:26:00 2019-11-07 19:42:00   \n",
       "1 2015-03-19 04:00:00 2015-03-12 04:00:00 2015-03-19 04:00:00   \n",
       "2                 NaT 2019-11-11 17:04:25                 NaT   \n",
       "3 2018-05-02 12:22:27 2017-11-01 15:13:00 2018-05-02 12:22:27   \n",
       "4                 NaT 2019-11-01 21:23:48                 NaT   \n",
       "\n",
       "                   complainttype   latitude  longitude  \n",
       "0                   Damaged Tree  40.850912 -73.941544  \n",
       "1                   Damaged Tree  40.658802 -73.842531  \n",
       "2               New Tree Request  40.690047 -73.943301  \n",
       "3                            NaN        NaN        NaN  \n",
       "4  Root/Sewer/Sidewalk Condition  40.866033 -73.856763  "
      ]
     },
     "execution_count": 8,
     "metadata": {},
     "output_type": "execute_result"
    }
   ],
   "source": [
    "# Convert the date columns into Python datetime objects\n",
    "service_requests['createddate'] =  pd.to_datetime(service_requests['createddate'])\n",
    "service_requests['closeddate'] =  pd.to_datetime(service_requests['closeddate'])\n",
    "service_requests['updateddate'] =  pd.to_datetime(service_requests['updateddate'])\n",
    "\n",
    "# Preview the data\n",
    "service_requests.head()"
   ]
  },
  {
   "cell_type": "markdown",
   "metadata": {
    "slideshow": {
     "slide_type": "skip"
    }
   },
   "source": [
    "Now that we've transformed the dataset, let's move onto the next dataset."
   ]
  },
  {
   "cell_type": "markdown",
   "metadata": {
    "slideshow": {
     "slide_type": "slide"
    }
   },
   "source": [
    "## Dataset 3: NYC Street Tree Map - Favorite Trees\n",
    "\n",
    "The NYC Street Tree Map - Favorite Trees dataset is available at https://data.cityofnewyork.us/Environment/NYC-Street-Tree-Map-Favorite-Trees/pbi9-jd5i.\n",
    "\n",
    "The source dataset is only available in JSON format. The data dictionary for this dataset is available at https://data.cityofnewyork.us/api/views/pbi9-jd5i/files/859e816e-d65c-4ba3-9b17-ee98ec9506b8?download=true&filename=FavoriteTreesDataDictionary_vF.xlsx. The JSON dataset URL is https://www.nycgovparks.org/tree-map-feeds/favorite-trees.json.\n",
    "\n",
    "Let's download the data using the requests module and then load the data into pandas:"
   ]
  },
  {
   "cell_type": "code",
   "execution_count": 9,
   "metadata": {
    "slideshow": {
     "slide_type": "subslide"
    }
   },
   "outputs": [
    {
     "data": {
      "text/html": [
       "<div>\n",
       "<style scoped>\n",
       "    .dataframe tbody tr th:only-of-type {\n",
       "        vertical-align: middle;\n",
       "    }\n",
       "\n",
       "    .dataframe tbody tr th {\n",
       "        vertical-align: top;\n",
       "    }\n",
       "\n",
       "    .dataframe thead th {\n",
       "        text-align: right;\n",
       "    }\n",
       "</style>\n",
       "<table border=\"1\" class=\"dataframe\">\n",
       "  <thead>\n",
       "    <tr style=\"text-align: right;\">\n",
       "      <th></th>\n",
       "      <th>treeId</th>\n",
       "      <th>numberOfTimesFavorited</th>\n",
       "    </tr>\n",
       "  </thead>\n",
       "  <tbody>\n",
       "    <tr>\n",
       "      <th>0</th>\n",
       "      <td>89223</td>\n",
       "      <td>1</td>\n",
       "    </tr>\n",
       "    <tr>\n",
       "      <th>1</th>\n",
       "      <td>90423</td>\n",
       "      <td>1</td>\n",
       "    </tr>\n",
       "    <tr>\n",
       "      <th>2</th>\n",
       "      <td>104829</td>\n",
       "      <td>1</td>\n",
       "    </tr>\n",
       "    <tr>\n",
       "      <th>3</th>\n",
       "      <td>108832</td>\n",
       "      <td>2</td>\n",
       "    </tr>\n",
       "    <tr>\n",
       "      <th>4</th>\n",
       "      <td>118055</td>\n",
       "      <td>1</td>\n",
       "    </tr>\n",
       "  </tbody>\n",
       "</table>\n",
       "</div>"
      ],
      "text/plain": [
       "   treeId  numberOfTimesFavorited\n",
       "0   89223                       1\n",
       "1   90423                       1\n",
       "2  104829                       1\n",
       "3  108832                       2\n",
       "4  118055                       1"
      ]
     },
     "execution_count": 9,
     "metadata": {},
     "output_type": "execute_result"
    }
   ],
   "source": [
    "# Download the data\n",
    "trees_response = requests.get('https://www.nycgovparks.org/tree-map-feeds/favorite-trees.json')\n",
    "\n",
    "# Check the response code\n",
    "# Print an error if the status code isn't 200\n",
    "if trees_response.status_code != 200:\n",
    "    print(trees_response.status_code)\n",
    "    print(\"There was an error with the request.\")\n",
    "# Otherwise load the response\n",
    "else:\n",
    "    trees_json = trees_response.json()\n",
    "    # Use the pandas json_normalize method to create a pandas dataframe\n",
    "    fav_trees = json_normalize(trees_json['data'])\n",
    "\n",
    "fav_trees.head(5)"
   ]
  },
  {
   "cell_type": "markdown",
   "metadata": {
    "slideshow": {
     "slide_type": "slide"
    }
   },
   "source": [
    "#### Let's check dataset record and column count:"
   ]
  },
  {
   "cell_type": "code",
   "execution_count": 10,
   "metadata": {
    "slideshow": {
     "slide_type": "fragment"
    }
   },
   "outputs": [
    {
     "data": {
      "text/plain": [
       "(6188, 2)"
      ]
     },
     "execution_count": 10,
     "metadata": {},
     "output_type": "execute_result"
    }
   ],
   "source": [
    "# Get the dataframe shape\n",
    "fav_trees.shape"
   ]
  },
  {
   "cell_type": "markdown",
   "metadata": {
    "slideshow": {
     "slide_type": "slide"
    }
   },
   "source": [
    "Looking good. This dataset is nice and tidy, but it's sparse. Now let's merge it with the trees dataframe. To do so, we'll need to rename the treeId column to tree_id to match the trees dataframe tree identifier column:"
   ]
  },
  {
   "cell_type": "code",
   "execution_count": 11,
   "metadata": {
    "slideshow": {
     "slide_type": "fragment"
    }
   },
   "outputs": [
    {
     "data": {
      "text/html": [
       "<div>\n",
       "<style scoped>\n",
       "    .dataframe tbody tr th:only-of-type {\n",
       "        vertical-align: middle;\n",
       "    }\n",
       "\n",
       "    .dataframe tbody tr th {\n",
       "        vertical-align: top;\n",
       "    }\n",
       "\n",
       "    .dataframe thead th {\n",
       "        text-align: right;\n",
       "    }\n",
       "</style>\n",
       "<table border=\"1\" class=\"dataframe\">\n",
       "  <thead>\n",
       "    <tr style=\"text-align: right;\">\n",
       "      <th></th>\n",
       "      <th>tree_id</th>\n",
       "      <th>created_at</th>\n",
       "      <th>status</th>\n",
       "      <th>health</th>\n",
       "      <th>spc_latin</th>\n",
       "      <th>spc_common</th>\n",
       "      <th>postcode</th>\n",
       "      <th>borough</th>\n",
       "      <th>latitude</th>\n",
       "      <th>longitude</th>\n",
       "      <th>numberOfTimesFavorited</th>\n",
       "    </tr>\n",
       "  </thead>\n",
       "  <tbody>\n",
       "    <tr>\n",
       "      <th>0</th>\n",
       "      <td>180683</td>\n",
       "      <td>08/27/2015</td>\n",
       "      <td>Alive</td>\n",
       "      <td>Fair</td>\n",
       "      <td>Acer rubrum</td>\n",
       "      <td>red maple</td>\n",
       "      <td>11375</td>\n",
       "      <td>Queens</td>\n",
       "      <td>40.723092</td>\n",
       "      <td>-73.844215</td>\n",
       "      <td>NaN</td>\n",
       "    </tr>\n",
       "    <tr>\n",
       "      <th>1</th>\n",
       "      <td>200540</td>\n",
       "      <td>09/03/2015</td>\n",
       "      <td>Alive</td>\n",
       "      <td>Fair</td>\n",
       "      <td>Quercus palustris</td>\n",
       "      <td>pin oak</td>\n",
       "      <td>11357</td>\n",
       "      <td>Queens</td>\n",
       "      <td>40.794111</td>\n",
       "      <td>-73.818679</td>\n",
       "      <td>NaN</td>\n",
       "    </tr>\n",
       "    <tr>\n",
       "      <th>2</th>\n",
       "      <td>204026</td>\n",
       "      <td>09/05/2015</td>\n",
       "      <td>Alive</td>\n",
       "      <td>Good</td>\n",
       "      <td>Gleditsia triacanthos var. inermis</td>\n",
       "      <td>honeylocust</td>\n",
       "      <td>11211</td>\n",
       "      <td>Brooklyn</td>\n",
       "      <td>40.717581</td>\n",
       "      <td>-73.936608</td>\n",
       "      <td>NaN</td>\n",
       "    </tr>\n",
       "    <tr>\n",
       "      <th>3</th>\n",
       "      <td>204337</td>\n",
       "      <td>09/05/2015</td>\n",
       "      <td>Alive</td>\n",
       "      <td>Good</td>\n",
       "      <td>Gleditsia triacanthos var. inermis</td>\n",
       "      <td>honeylocust</td>\n",
       "      <td>11211</td>\n",
       "      <td>Brooklyn</td>\n",
       "      <td>40.713537</td>\n",
       "      <td>-73.934456</td>\n",
       "      <td>NaN</td>\n",
       "    </tr>\n",
       "    <tr>\n",
       "      <th>4</th>\n",
       "      <td>189565</td>\n",
       "      <td>08/30/2015</td>\n",
       "      <td>Alive</td>\n",
       "      <td>Good</td>\n",
       "      <td>Tilia americana</td>\n",
       "      <td>American linden</td>\n",
       "      <td>11215</td>\n",
       "      <td>Brooklyn</td>\n",
       "      <td>40.666778</td>\n",
       "      <td>-73.975979</td>\n",
       "      <td>NaN</td>\n",
       "    </tr>\n",
       "  </tbody>\n",
       "</table>\n",
       "</div>"
      ],
      "text/plain": [
       "   tree_id  created_at status health                           spc_latin  \\\n",
       "0   180683  08/27/2015  Alive   Fair                         Acer rubrum   \n",
       "1   200540  09/03/2015  Alive   Fair                   Quercus palustris   \n",
       "2   204026  09/05/2015  Alive   Good  Gleditsia triacanthos var. inermis   \n",
       "3   204337  09/05/2015  Alive   Good  Gleditsia triacanthos var. inermis   \n",
       "4   189565  08/30/2015  Alive   Good                     Tilia americana   \n",
       "\n",
       "        spc_common  postcode   borough   latitude  longitude  \\\n",
       "0        red maple     11375    Queens  40.723092 -73.844215   \n",
       "1          pin oak     11357    Queens  40.794111 -73.818679   \n",
       "2      honeylocust     11211  Brooklyn  40.717581 -73.936608   \n",
       "3      honeylocust     11211  Brooklyn  40.713537 -73.934456   \n",
       "4  American linden     11215  Brooklyn  40.666778 -73.975979   \n",
       "\n",
       "   numberOfTimesFavorited  \n",
       "0                     NaN  \n",
       "1                     NaN  \n",
       "2                     NaN  \n",
       "3                     NaN  \n",
       "4                     NaN  "
      ]
     },
     "execution_count": 11,
     "metadata": {},
     "output_type": "execute_result"
    }
   ],
   "source": [
    "# Rename the column\n",
    "fav_trees.rename(columns={'treeId': 'tree_id'}, inplace=True)\n",
    "# Merge the dataframse\n",
    "trees = pd.merge(trees, fav_trees, how='left', on='tree_id')\n",
    "# Preview the data\n",
    "trees.head(5)"
   ]
  },
  {
   "cell_type": "markdown",
   "metadata": {
    "slideshow": {
     "slide_type": "slide"
    }
   },
   "source": [
    "## Data Analysis\n",
    "\n",
    "We're going to analyze the data and answer the following questions:\n",
    "\n",
    "- Which borough has the most trees?\n",
    "- Which borough has the most \"favorite\" trees as voted on by registered users of the NYC Street Tree Map?\n",
    "- How many dead trees there are?\n",
    "    - How many are still standing?\n",
    "    - How many are stumps?\n",
    "- What is the most common species?\n",
    "- What is the least common species?\n",
    "- Which borough has the most 311 service requests for downed trees/limbs?\n",
    "    - Which borough has the least?\n",
    "    - Which month has the most requests?\n",
    "    - What is the average time for a service request to change from opened to closed in each borough?"
   ]
  },
  {
   "cell_type": "markdown",
   "metadata": {
    "slideshow": {
     "slide_type": "slide"
    }
   },
   "source": [
    "### Which borough has the most trees?\n",
    "\n",
    "To answer this, we'll need to group by borough and count the rows:"
   ]
  },
  {
   "cell_type": "code",
   "execution_count": 12,
   "metadata": {
    "slideshow": {
     "slide_type": "fragment"
    }
   },
   "outputs": [
    {
     "data": {
      "text/html": [
       "<div>\n",
       "<style scoped>\n",
       "    .dataframe tbody tr th:only-of-type {\n",
       "        vertical-align: middle;\n",
       "    }\n",
       "\n",
       "    .dataframe tbody tr th {\n",
       "        vertical-align: top;\n",
       "    }\n",
       "\n",
       "    .dataframe thead th {\n",
       "        text-align: right;\n",
       "    }\n",
       "</style>\n",
       "<table border=\"1\" class=\"dataframe\">\n",
       "  <thead>\n",
       "    <tr style=\"text-align: right;\">\n",
       "      <th></th>\n",
       "      <th>borough</th>\n",
       "      <th>tree_count</th>\n",
       "    </tr>\n",
       "  </thead>\n",
       "  <tbody>\n",
       "    <tr>\n",
       "      <th>3</th>\n",
       "      <td>Queens</td>\n",
       "      <td>250551</td>\n",
       "    </tr>\n",
       "    <tr>\n",
       "      <th>1</th>\n",
       "      <td>Brooklyn</td>\n",
       "      <td>177293</td>\n",
       "    </tr>\n",
       "    <tr>\n",
       "      <th>4</th>\n",
       "      <td>Staten Island</td>\n",
       "      <td>105318</td>\n",
       "    </tr>\n",
       "    <tr>\n",
       "      <th>0</th>\n",
       "      <td>Bronx</td>\n",
       "      <td>85203</td>\n",
       "    </tr>\n",
       "    <tr>\n",
       "      <th>2</th>\n",
       "      <td>Manhattan</td>\n",
       "      <td>65423</td>\n",
       "    </tr>\n",
       "  </tbody>\n",
       "</table>\n",
       "</div>"
      ],
      "text/plain": [
       "         borough  tree_count\n",
       "3         Queens      250551\n",
       "1       Brooklyn      177293\n",
       "4  Staten Island      105318\n",
       "0          Bronx       85203\n",
       "2      Manhattan       65423"
      ]
     },
     "execution_count": 12,
     "metadata": {},
     "output_type": "execute_result"
    }
   ],
   "source": [
    "trees.groupby('borough') \\\n",
    "     .tree_id \\\n",
    "     .count() \\\n",
    "     .reset_index() \\\n",
    "     .rename(columns={'tree_id':'tree_count'}) \\\n",
    "     .sort_values(['tree_count'], ascending=[False])"
   ]
  },
  {
   "cell_type": "markdown",
   "metadata": {
    "slideshow": {
     "slide_type": "subslide"
    }
   },
   "source": [
    "As we can see, Queens has the most trees with 250,551. That's a lot of trees!\n",
    "\n",
    "#### Now let's see a count plot:"
   ]
  },
  {
   "cell_type": "code",
   "execution_count": 13,
   "metadata": {
    "slideshow": {
     "slide_type": "fragment"
    }
   },
   "outputs": [
    {
     "data": {
      "image/png": "[encoded data removed]",
      "text/plain": [
       "<Figure size 864x432 with 1 Axes>"
      ]
     },
     "metadata": {},
     "output_type": "display_data"
    }
   ],
   "source": [
    "# Set the font scale to make the labels and ticks more readable\n",
    "sb.set(font_scale = 1.5)\n",
    "# Set the figure size\n",
    "fig, axes = plt.subplots(figsize = (12, 6))\n",
    "# Create the plot\n",
    "plot = sb.countplot(trees['borough'])"
   ]
  },
  {
   "cell_type": "markdown",
   "metadata": {
    "slideshow": {
     "slide_type": "slide"
    }
   },
   "source": [
    "### Which borough has the most \"favorite\" trees as voted on by registered users of the NYC Street Tree Map?\n",
    "To answer this, we'll need to group by borough and count the number of votes:"
   ]
  },
  {
   "cell_type": "code",
   "execution_count": 14,
   "metadata": {
    "slideshow": {
     "slide_type": "fragment"
    }
   },
   "outputs": [
    {
     "data": {
      "text/html": [
       "<div>\n",
       "<style scoped>\n",
       "    .dataframe tbody tr th:only-of-type {\n",
       "        vertical-align: middle;\n",
       "    }\n",
       "\n",
       "    .dataframe tbody tr th {\n",
       "        vertical-align: top;\n",
       "    }\n",
       "\n",
       "    .dataframe thead th {\n",
       "        text-align: right;\n",
       "    }\n",
       "</style>\n",
       "<table border=\"1\" class=\"dataframe\">\n",
       "  <thead>\n",
       "    <tr style=\"text-align: right;\">\n",
       "      <th></th>\n",
       "      <th>total_votes</th>\n",
       "      <th>unique_trees_voted_on</th>\n",
       "    </tr>\n",
       "    <tr>\n",
       "      <th>borough</th>\n",
       "      <th></th>\n",
       "      <th></th>\n",
       "    </tr>\n",
       "  </thead>\n",
       "  <tbody>\n",
       "    <tr>\n",
       "      <th>Queens</th>\n",
       "      <td>341.0</td>\n",
       "      <td>331</td>\n",
       "    </tr>\n",
       "    <tr>\n",
       "      <th>Staten Island</th>\n",
       "      <td>73.0</td>\n",
       "      <td>69</td>\n",
       "    </tr>\n",
       "    <tr>\n",
       "      <th>Brooklyn</th>\n",
       "      <td>58.0</td>\n",
       "      <td>57</td>\n",
       "    </tr>\n",
       "    <tr>\n",
       "      <th>Bronx</th>\n",
       "      <td>21.0</td>\n",
       "      <td>21</td>\n",
       "    </tr>\n",
       "    <tr>\n",
       "      <th>Manhattan</th>\n",
       "      <td>16.0</td>\n",
       "      <td>15</td>\n",
       "    </tr>\n",
       "  </tbody>\n",
       "</table>\n",
       "</div>"
      ],
      "text/plain": [
       "               total_votes  unique_trees_voted_on\n",
       "borough                                          \n",
       "Queens               341.0                    331\n",
       "Staten Island         73.0                     69\n",
       "Brooklyn              58.0                     57\n",
       "Bronx                 21.0                     21\n",
       "Manhattan             16.0                     15"
      ]
     },
     "execution_count": 14,
     "metadata": {},
     "output_type": "execute_result"
    }
   ],
   "source": [
    "# Group by borough and select the numberOfTimesFavorited column to run the sum and count\n",
    "# aggregate functions on\n",
    "trees.groupby('borough')['numberOfTimesFavorited'] \\\n",
    "     .agg(['sum','count']) \\\n",
    "     .rename(columns={'sum':'total_votes', 'count':'unique_trees_voted_on'}) \\\n",
    "     .sort_values(['total_votes'], ascending=[False])"
   ]
  },
  {
   "cell_type": "markdown",
   "metadata": {
    "slideshow": {
     "slide_type": "subslide"
    }
   },
   "source": [
    "As we can see, Queens has the most \"favorite\" trees with 341 votes and 331 unique trees voted on, not exactly surprising given the sheer advantage it has by way of tree count."
   ]
  },
  {
   "cell_type": "markdown",
   "metadata": {
    "slideshow": {
     "slide_type": "slide"
    }
   },
   "source": [
    "### How many dead trees there are?\n",
    "\n",
    "To answer this we'll need to query the trees dataset to find trees that have a status not equal to alive and then get the shape:"
   ]
  },
  {
   "cell_type": "code",
   "execution_count": 15,
   "metadata": {
    "slideshow": {
     "slide_type": "fragment"
    }
   },
   "outputs": [
    {
     "name": "stdout",
     "output_type": "stream",
     "text": [
      "31615\n"
     ]
    }
   ],
   "source": [
    "# Query the trees dataframe and print the shape \n",
    "print(trees.query('status != \"Alive\"').shape[0])"
   ]
  },
  {
   "cell_type": "markdown",
   "metadata": {
    "slideshow": {
     "slide_type": "subslide"
    }
   },
   "source": [
    "As we can see, there are 31,615 dead trees."
   ]
  },
  {
   "cell_type": "markdown",
   "metadata": {
    "slideshow": {
     "slide_type": "slide"
    }
   },
   "source": [
    "### How many are still standing? How many are stumps?\n",
    "To answer this we'll need to query the trees dataset to find trees that have a status not equal to alive and then group by status and count the number of trees:"
   ]
  },
  {
   "cell_type": "code",
   "execution_count": 16,
   "metadata": {
    "slideshow": {
     "slide_type": "fragment"
    }
   },
   "outputs": [
    {
     "data": {
      "text/html": [
       "<div>\n",
       "<style scoped>\n",
       "    .dataframe tbody tr th:only-of-type {\n",
       "        vertical-align: middle;\n",
       "    }\n",
       "\n",
       "    .dataframe tbody tr th {\n",
       "        vertical-align: top;\n",
       "    }\n",
       "\n",
       "    .dataframe thead th {\n",
       "        text-align: right;\n",
       "    }\n",
       "</style>\n",
       "<table border=\"1\" class=\"dataframe\">\n",
       "  <thead>\n",
       "    <tr style=\"text-align: right;\">\n",
       "      <th></th>\n",
       "      <th>status</th>\n",
       "      <th>tree_count</th>\n",
       "    </tr>\n",
       "  </thead>\n",
       "  <tbody>\n",
       "    <tr>\n",
       "      <th>1</th>\n",
       "      <td>Stump</td>\n",
       "      <td>17654</td>\n",
       "    </tr>\n",
       "    <tr>\n",
       "      <th>0</th>\n",
       "      <td>Dead</td>\n",
       "      <td>13961</td>\n",
       "    </tr>\n",
       "  </tbody>\n",
       "</table>\n",
       "</div>"
      ],
      "text/plain": [
       "  status  tree_count\n",
       "1  Stump       17654\n",
       "0   Dead       13961"
      ]
     },
     "execution_count": 16,
     "metadata": {},
     "output_type": "execute_result"
    }
   ],
   "source": [
    "# Query the trees dataframe, group by status, and count the rows\n",
    "trees.query('status != \"Alive\"') \\\n",
    "     .groupby('status') \\\n",
    "     .tree_id \\\n",
    "     .count() \\\n",
    "     .reset_index() \\\n",
    "     .rename(columns={'tree_id':'tree_count'}) \\\n",
    "     .sort_values(['tree_count'], ascending=[False])"
   ]
  },
  {
   "cell_type": "markdown",
   "metadata": {
    "slideshow": {
     "slide_type": "subslide"
    }
   },
   "source": [
    "As we can see, there are 13,961 standing dead trees and 17,654 stumps.\n",
    "\n",
    "#### Let's visualize this by borough:"
   ]
  },
  {
   "cell_type": "code",
   "execution_count": 17,
   "metadata": {
    "slideshow": {
     "slide_type": "fragment"
    },
    "tags": [
     "hide_input_for_slides"
    ]
   },
   "outputs": [
    {
     "data": {
      "image/png": "[encoded data removed]",
      "text/plain": [
       "<Figure size 864x432 with 5 Axes>"
      ]
     },
     "metadata": {},
     "output_type": "display_data"
    }
   ],
   "source": [
    "# Get the unique borough values from the tree dataframe\n",
    "boroughs = trees.borough.unique()\n",
    "\n",
    "# Set the font scale to make the labels and ticks more readable\n",
    "sb.set(font_scale = 1.5)\n",
    "# Set the number of columns for the subplots, the figure size, and constrained layout\n",
    "fig, axes = plt.subplots(ncols = len(boroughs),\n",
    "                         figsize = (12, 6),\n",
    "                         constrained_layout = True)\n",
    "\n",
    "# Loop through the boroughs to generate the countplot as subplots\n",
    "for i, b in enumerate(boroughs):\n",
    "    data = trees.query('borough == \"{}\"'.format(b))\n",
    "    # Create the subplot\n",
    "    plot = sb.countplot(data['status'], ax = axes[i%len(boroughs)])\n",
    "    # Set the tick labels for the x axis\n",
    "    plot.set_xticklabels(data['status'].unique(), rotation = 90)\n",
    "    # Set the axis labels\n",
    "    plot.set(xlabel = \"Status\",\n",
    "             ylabel = \"Tree Count\", \n",
    "             title = \"{}\".format(b))"
   ]
  },
  {
   "cell_type": "markdown",
   "metadata": {
    "slideshow": {
     "slide_type": "slide"
    }
   },
   "source": [
    "### What is the most common species?\n",
    "To answer this, we'll need to group by species and count the number trees:"
   ]
  },
  {
   "cell_type": "code",
   "execution_count": 18,
   "metadata": {
    "slideshow": {
     "slide_type": "subslide"
    }
   },
   "outputs": [
    {
     "data": {
      "text/html": [
       "<div>\n",
       "<style scoped>\n",
       "    .dataframe tbody tr th:only-of-type {\n",
       "        vertical-align: middle;\n",
       "    }\n",
       "\n",
       "    .dataframe tbody tr th {\n",
       "        vertical-align: top;\n",
       "    }\n",
       "\n",
       "    .dataframe thead th {\n",
       "        text-align: right;\n",
       "    }\n",
       "</style>\n",
       "<table border=\"1\" class=\"dataframe\">\n",
       "  <thead>\n",
       "    <tr style=\"text-align: right;\">\n",
       "      <th></th>\n",
       "      <th>spc_common</th>\n",
       "      <th>tree_count</th>\n",
       "    </tr>\n",
       "  </thead>\n",
       "  <tbody>\n",
       "    <tr>\n",
       "      <th>31</th>\n",
       "      <td>London planetree</td>\n",
       "      <td>87014</td>\n",
       "    </tr>\n",
       "    <tr>\n",
       "      <th>82</th>\n",
       "      <td>honeylocust</td>\n",
       "      <td>64264</td>\n",
       "    </tr>\n",
       "    <tr>\n",
       "      <th>12</th>\n",
       "      <td>Callery pear</td>\n",
       "      <td>58931</td>\n",
       "    </tr>\n",
       "    <tr>\n",
       "      <th>96</th>\n",
       "      <td>pin oak</td>\n",
       "      <td>53185</td>\n",
       "    </tr>\n",
       "    <tr>\n",
       "      <th>32</th>\n",
       "      <td>Norway maple</td>\n",
       "      <td>34189</td>\n",
       "    </tr>\n",
       "  </tbody>\n",
       "</table>\n",
       "</div>"
      ],
      "text/plain": [
       "          spc_common  tree_count\n",
       "31  London planetree       87014\n",
       "82       honeylocust       64264\n",
       "12      Callery pear       58931\n",
       "96           pin oak       53185\n",
       "32      Norway maple       34189"
      ]
     },
     "execution_count": 18,
     "metadata": {},
     "output_type": "execute_result"
    }
   ],
   "source": [
    "# Group by species name, count the rows, and sort descending by the count\n",
    "trees.groupby('spc_common') \\\n",
    "     .tree_id \\\n",
    "     .count() \\\n",
    "     .reset_index() \\\n",
    "     .rename(columns={'tree_id':'tree_count'}) \\\n",
    "     .sort_values(['tree_count'], ascending=[False]) \\\n",
    "     .head(5)"
   ]
  },
  {
   "cell_type": "markdown",
   "metadata": {
    "slideshow": {
     "slide_type": "subslide"
    }
   },
   "source": [
    "As we can see, the most common species is the London planetree with 87,014 trees in NYC."
   ]
  },
  {
   "cell_type": "markdown",
   "metadata": {
    "slideshow": {
     "slide_type": "slide"
    }
   },
   "source": [
    "### What is the least common species?\n",
    "To answer this, as with above we'll need to group by species and count the number trees:"
   ]
  },
  {
   "cell_type": "code",
   "execution_count": 19,
   "metadata": {
    "slideshow": {
     "slide_type": "subslide"
    }
   },
   "outputs": [
    {
     "data": {
      "text/html": [
       "<div>\n",
       "<style scoped>\n",
       "    .dataframe tbody tr th:only-of-type {\n",
       "        vertical-align: middle;\n",
       "    }\n",
       "\n",
       "    .dataframe tbody tr th {\n",
       "        vertical-align: top;\n",
       "    }\n",
       "\n",
       "    .dataframe thead th {\n",
       "        text-align: right;\n",
       "    }\n",
       "</style>\n",
       "<table border=\"1\" class=\"dataframe\">\n",
       "  <thead>\n",
       "    <tr style=\"text-align: right;\">\n",
       "      <th></th>\n",
       "      <th>spc_common</th>\n",
       "      <th>tree_count</th>\n",
       "    </tr>\n",
       "  </thead>\n",
       "  <tbody>\n",
       "    <tr>\n",
       "      <th>44</th>\n",
       "      <td>Virginia pine</td>\n",
       "      <td>10</td>\n",
       "    </tr>\n",
       "    <tr>\n",
       "      <th>39</th>\n",
       "      <td>Scots pine</td>\n",
       "      <td>25</td>\n",
       "    </tr>\n",
       "    <tr>\n",
       "      <th>36</th>\n",
       "      <td>Osage-orange</td>\n",
       "      <td>29</td>\n",
       "    </tr>\n",
       "    <tr>\n",
       "      <th>98</th>\n",
       "      <td>pitch pine</td>\n",
       "      <td>33</td>\n",
       "    </tr>\n",
       "    <tr>\n",
       "      <th>53</th>\n",
       "      <td>black pine</td>\n",
       "      <td>37</td>\n",
       "    </tr>\n",
       "  </tbody>\n",
       "</table>\n",
       "</div>"
      ],
      "text/plain": [
       "       spc_common  tree_count\n",
       "44  Virginia pine          10\n",
       "39     Scots pine          25\n",
       "36   Osage-orange          29\n",
       "98     pitch pine          33\n",
       "53     black pine          37"
      ]
     },
     "execution_count": 19,
     "metadata": {},
     "output_type": "execute_result"
    }
   ],
   "source": [
    "# Group by species name, count the rows, and sort ascending by the count\n",
    "trees.groupby('spc_common') \\\n",
    "     .tree_id \\\n",
    "     .count() \\\n",
    "     .reset_index() \\\n",
    "     .rename(columns={'tree_id':'tree_count'}) \\\n",
    "     .sort_values(['tree_count'], ascending=[True]) \\\n",
    "     .head(5)"
   ]
  },
  {
   "cell_type": "markdown",
   "metadata": {
    "slideshow": {
     "slide_type": "subslide"
    }
   },
   "source": [
    "As we can see, the least common species is the Virginia pine with 10 trees in NYC."
   ]
  },
  {
   "cell_type": "markdown",
   "metadata": {
    "slideshow": {
     "slide_type": "slide"
    }
   },
   "source": [
    "### Which borough has the most 311 service requests for downed trees/limbs? Which borough has the least?\n",
    "To answer this, we'll need to select only records where the request type contains Down and then group by borough and count the number of requests:"
   ]
  },
  {
   "cell_type": "code",
   "execution_count": 20,
   "metadata": {
    "slideshow": {
     "slide_type": "subslide"
    }
   },
   "outputs": [
    {
     "data": {
      "text/html": [
       "<div>\n",
       "<style scoped>\n",
       "    .dataframe tbody tr th:only-of-type {\n",
       "        vertical-align: middle;\n",
       "    }\n",
       "\n",
       "    .dataframe tbody tr th {\n",
       "        vertical-align: top;\n",
       "    }\n",
       "\n",
       "    .dataframe thead th {\n",
       "        text-align: right;\n",
       "    }\n",
       "</style>\n",
       "<table border=\"1\" class=\"dataframe\">\n",
       "  <thead>\n",
       "    <tr style=\"text-align: right;\">\n",
       "      <th></th>\n",
       "      <th>borough</th>\n",
       "      <th>requests</th>\n",
       "    </tr>\n",
       "  </thead>\n",
       "  <tbody>\n",
       "    <tr>\n",
       "      <th>3</th>\n",
       "      <td>Queens</td>\n",
       "      <td>32548</td>\n",
       "    </tr>\n",
       "    <tr>\n",
       "      <th>1</th>\n",
       "      <td>Brooklyn</td>\n",
       "      <td>24396</td>\n",
       "    </tr>\n",
       "    <tr>\n",
       "      <th>4</th>\n",
       "      <td>Staten Island</td>\n",
       "      <td>8960</td>\n",
       "    </tr>\n",
       "    <tr>\n",
       "      <th>0</th>\n",
       "      <td>Bronx</td>\n",
       "      <td>7611</td>\n",
       "    </tr>\n",
       "    <tr>\n",
       "      <th>2</th>\n",
       "      <td>Manhattan</td>\n",
       "      <td>4794</td>\n",
       "    </tr>\n",
       "  </tbody>\n",
       "</table>\n",
       "</div>"
      ],
      "text/plain": [
       "         borough  requests\n",
       "3         Queens     32548\n",
       "1       Brooklyn     24396\n",
       "4  Staten Island      8960\n",
       "0          Bronx      7611\n",
       "2      Manhattan      4794"
      ]
     },
     "execution_count": 20,
     "metadata": {},
     "output_type": "execute_result"
    }
   ],
   "source": [
    "# Query the service_requests dataframe to only include requests where the request type contains Down\n",
    "# Group by borough and then count the rows\n",
    "service_requests.query('srtype.str.contains(\"Down\")') \\\n",
    "                .groupby('boroughcode') \\\n",
    "                .srtype \\\n",
    "                .count() \\\n",
    "                .reset_index() \\\n",
    "                .rename(columns={'boroughcode':'borough' , 'srtype':'requests'}) \\\n",
    "                .sort_values(['requests'], ascending=[False])"
   ]
  },
  {
   "cell_type": "markdown",
   "metadata": {
    "slideshow": {
     "slide_type": "subslide"
    }
   },
   "source": [
    "As we can see, Queens has the most service requests with 32,548 and Manhattan has the least with 4,794."
   ]
  },
  {
   "cell_type": "markdown",
   "metadata": {
    "slideshow": {
     "slide_type": "slide"
    }
   },
   "source": [
    "### Which month has the most requests?\n",
    "To answer this, we'll need to select only records where the request type contains Down and then group by month and count the number of requests:"
   ]
  },
  {
   "cell_type": "code",
   "execution_count": 21,
   "metadata": {
    "slideshow": {
     "slide_type": "subslide"
    }
   },
   "outputs": [
    {
     "data": {
      "text/html": [
       "<div>\n",
       "<style scoped>\n",
       "    .dataframe tbody tr th:only-of-type {\n",
       "        vertical-align: middle;\n",
       "    }\n",
       "\n",
       "    .dataframe tbody tr th {\n",
       "        vertical-align: top;\n",
       "    }\n",
       "\n",
       "    .dataframe thead th {\n",
       "        text-align: right;\n",
       "    }\n",
       "</style>\n",
       "<table border=\"1\" class=\"dataframe\">\n",
       "  <thead>\n",
       "    <tr style=\"text-align: right;\">\n",
       "      <th></th>\n",
       "      <th>month</th>\n",
       "      <th>requests</th>\n",
       "    </tr>\n",
       "  </thead>\n",
       "  <tbody>\n",
       "    <tr>\n",
       "      <th>5</th>\n",
       "      <td>July</td>\n",
       "      <td>11382</td>\n",
       "    </tr>\n",
       "    <tr>\n",
       "      <th>1</th>\n",
       "      <td>August</td>\n",
       "      <td>9240</td>\n",
       "    </tr>\n",
       "    <tr>\n",
       "      <th>10</th>\n",
       "      <td>October</td>\n",
       "      <td>8667</td>\n",
       "    </tr>\n",
       "    <tr>\n",
       "      <th>9</th>\n",
       "      <td>November</td>\n",
       "      <td>8440</td>\n",
       "    </tr>\n",
       "    <tr>\n",
       "      <th>6</th>\n",
       "      <td>June</td>\n",
       "      <td>7951</td>\n",
       "    </tr>\n",
       "    <tr>\n",
       "      <th>7</th>\n",
       "      <td>March</td>\n",
       "      <td>7601</td>\n",
       "    </tr>\n",
       "    <tr>\n",
       "      <th>8</th>\n",
       "      <td>May</td>\n",
       "      <td>6846</td>\n",
       "    </tr>\n",
       "    <tr>\n",
       "      <th>11</th>\n",
       "      <td>September</td>\n",
       "      <td>6154</td>\n",
       "    </tr>\n",
       "    <tr>\n",
       "      <th>0</th>\n",
       "      <td>April</td>\n",
       "      <td>4567</td>\n",
       "    </tr>\n",
       "    <tr>\n",
       "      <th>3</th>\n",
       "      <td>February</td>\n",
       "      <td>3414</td>\n",
       "    </tr>\n",
       "    <tr>\n",
       "      <th>2</th>\n",
       "      <td>December</td>\n",
       "      <td>2048</td>\n",
       "    </tr>\n",
       "    <tr>\n",
       "      <th>4</th>\n",
       "      <td>January</td>\n",
       "      <td>2004</td>\n",
       "    </tr>\n",
       "  </tbody>\n",
       "</table>\n",
       "</div>"
      ],
      "text/plain": [
       "        month  requests\n",
       "5        July     11382\n",
       "1      August      9240\n",
       "10    October      8667\n",
       "9    November      8440\n",
       "6        June      7951\n",
       "7       March      7601\n",
       "8         May      6846\n",
       "11  September      6154\n",
       "0       April      4567\n",
       "3    February      3414\n",
       "2    December      2048\n",
       "4     January      2004"
      ]
     },
     "execution_count": 21,
     "metadata": {},
     "output_type": "execute_result"
    }
   ],
   "source": [
    "# Query the service_requests dataframe to only include requests where the request type contains Down\n",
    "# Select the month portion of createddate to group by and then count the rows\n",
    "service_requests.query('srtype.str.contains(\"Down\")') \\\n",
    "                        .groupby([service_requests.createddate.dt.strftime(\"%B\").rename('month')]) \\\n",
    "                        .srtype \\\n",
    "                        .count() \\\n",
    "                        .reset_index() \\\n",
    "                        .rename(columns={'srtype':'requests'}) \\\n",
    "                        .sort_values(['requests'], ascending=[False])"
   ]
  },
  {
   "cell_type": "markdown",
   "metadata": {
    "slideshow": {
     "slide_type": "subslide"
    }
   },
   "source": [
    "July and August have the most service requests with 11,382 and 9,240 requests respectively."
   ]
  },
  {
   "cell_type": "markdown",
   "metadata": {
    "slideshow": {
     "slide_type": "slide"
    }
   },
   "source": [
    "### What is the average time for a service request to change from opened to closed in each borough?\n",
    "To answer this, we'll need to calcuate the time difference between service request create dates and closed dates, and to filter out service requests without a closed date, then group by borough:"
   ]
  },
  {
   "cell_type": "code",
   "execution_count": 22,
   "metadata": {
    "slideshow": {
     "slide_type": "subslide"
    }
   },
   "outputs": [
    {
     "data": {
      "text/html": [
       "<div>\n",
       "<style scoped>\n",
       "    .dataframe tbody tr th:only-of-type {\n",
       "        vertical-align: middle;\n",
       "    }\n",
       "\n",
       "    .dataframe tbody tr th {\n",
       "        vertical-align: top;\n",
       "    }\n",
       "\n",
       "    .dataframe thead th {\n",
       "        text-align: right;\n",
       "    }\n",
       "</style>\n",
       "<table border=\"1\" class=\"dataframe\">\n",
       "  <thead>\n",
       "    <tr style=\"text-align: right;\">\n",
       "      <th></th>\n",
       "      <th>borough</th>\n",
       "      <th>average_time</th>\n",
       "    </tr>\n",
       "  </thead>\n",
       "  <tbody>\n",
       "    <tr>\n",
       "      <th>1</th>\n",
       "      <td>Brooklyn</td>\n",
       "      <td>50 days 17:39:44.768914</td>\n",
       "    </tr>\n",
       "    <tr>\n",
       "      <th>0</th>\n",
       "      <td>Bronx</td>\n",
       "      <td>45 days 22:50:07.993546</td>\n",
       "    </tr>\n",
       "    <tr>\n",
       "      <th>3</th>\n",
       "      <td>Queens</td>\n",
       "      <td>38 days 13:52:10.262435</td>\n",
       "    </tr>\n",
       "    <tr>\n",
       "      <th>4</th>\n",
       "      <td>Staten Island</td>\n",
       "      <td>19 days 09:36:58.213270</td>\n",
       "    </tr>\n",
       "    <tr>\n",
       "      <th>2</th>\n",
       "      <td>Manhattan</td>\n",
       "      <td>8 days 18:38:33.312222</td>\n",
       "    </tr>\n",
       "  </tbody>\n",
       "</table>\n",
       "</div>"
      ],
      "text/plain": [
       "         borough            average_time\n",
       "1       Brooklyn 50 days 17:39:44.768914\n",
       "0          Bronx 45 days 22:50:07.993546\n",
       "3         Queens 38 days 13:52:10.262435\n",
       "4  Staten Island 19 days 09:36:58.213270\n",
       "2      Manhattan  8 days 18:38:33.312222"
      ]
     },
     "execution_count": 22,
     "metadata": {},
     "output_type": "execute_result"
    }
   ],
   "source": [
    "# Create a new column named time_diff that is calculated by subtracting the open date from the close date\n",
    "service_requests['time_diff'] = service_requests['closeddate'] - service_requests['createddate']\n",
    "\n",
    "# Query the service_requests dataframe to only include requests that have closed dates and where\n",
    "# the request type contains Down. Group by borough, get the time_diff column and calcuate the mean\n",
    "service_requests.query('closeddate == closeddate and srtype.str.contains(\"Down\")') \\\n",
    "                            .groupby('boroughcode') \\\n",
    "                            .time_diff \\\n",
    "                            .mean(numeric_only=False) \\\n",
    "                            .reset_index() \\\n",
    "                            .rename(columns={'boroughcode':'borough', 'time_diff':'average_time'}) \\\n",
    "                            .sort_values(['average_time'], ascending=[False])"
   ]
  },
  {
   "cell_type": "markdown",
   "metadata": {
    "slideshow": {
     "slide_type": "subslide"
    }
   },
   "source": [
    "As we can see, Brooklyn has the longest average time for open requests at 50 days, followed by Bronx with 45 days, Queens with 38 days, Staten Island with 19 days, and Manhattan with 8 days."
   ]
  },
  {
   "cell_type": "markdown",
   "metadata": {
    "slideshow": {
     "slide_type": "slide"
    }
   },
   "source": [
    "## Mapping the tree population density to a heatmap using GeoPandas and NYC Open Data Zip Code Boundaries shapefiles\n",
    "\n",
    "Using GeoPandas, let's show the tree population on a heatmap. The shapefiles are available at https://data.cityofnewyork.us/Business/Zip-Code-Boundaries/i8iw-xf4u/data."
   ]
  },
  {
   "cell_type": "code",
   "execution_count": 23,
   "metadata": {
    "slideshow": {
     "slide_type": "subslide"
    }
   },
   "outputs": [
    {
     "data": {
      "text/html": [
       "<div>\n",
       "<style scoped>\n",
       "    .dataframe tbody tr th:only-of-type {\n",
       "        vertical-align: middle;\n",
       "    }\n",
       "\n",
       "    .dataframe tbody tr th {\n",
       "        vertical-align: top;\n",
       "    }\n",
       "\n",
       "    .dataframe thead th {\n",
       "        text-align: right;\n",
       "    }\n",
       "</style>\n",
       "<table border=\"1\" class=\"dataframe\">\n",
       "  <thead>\n",
       "    <tr style=\"text-align: right;\">\n",
       "      <th></th>\n",
       "      <th>zip_code</th>\n",
       "      <th>count</th>\n",
       "      <th>ZIPCODE</th>\n",
       "      <th>BLDGZIP</th>\n",
       "      <th>PO_NAME</th>\n",
       "      <th>POPULATION</th>\n",
       "      <th>AREA</th>\n",
       "      <th>STATE</th>\n",
       "      <th>COUNTY</th>\n",
       "      <th>ST_FIPS</th>\n",
       "      <th>CTY_FIPS</th>\n",
       "      <th>URL</th>\n",
       "      <th>SHAPE_AREA</th>\n",
       "      <th>SHAPE_LEN</th>\n",
       "      <th>geometry</th>\n",
       "    </tr>\n",
       "  </thead>\n",
       "  <tbody>\n",
       "    <tr>\n",
       "      <th>0</th>\n",
       "      <td>83</td>\n",
       "      <td>935</td>\n",
       "      <td>00083</td>\n",
       "      <td>0</td>\n",
       "      <td>Central Park</td>\n",
       "      <td>25.0</td>\n",
       "      <td>3.830099e+07</td>\n",
       "      <td>NY</td>\n",
       "      <td>New York</td>\n",
       "      <td>36</td>\n",
       "      <td>061</td>\n",
       "      <td>http://www.usps.com/</td>\n",
       "      <td>0.0</td>\n",
       "      <td>0.0</td>\n",
       "      <td>POLYGON ((998309.725 229616.681, 998282.853 22...</td>\n",
       "    </tr>\n",
       "    <tr>\n",
       "      <th>1</th>\n",
       "      <td>10001</td>\n",
       "      <td>911</td>\n",
       "      <td>10001</td>\n",
       "      <td>0</td>\n",
       "      <td>New York</td>\n",
       "      <td>22413.0</td>\n",
       "      <td>1.779494e+07</td>\n",
       "      <td>NY</td>\n",
       "      <td>New York</td>\n",
       "      <td>36</td>\n",
       "      <td>061</td>\n",
       "      <td>http://www.usps.com/</td>\n",
       "      <td>0.0</td>\n",
       "      <td>0.0</td>\n",
       "      <td>POLYGON ((981958.647 213464.453, 981980.328 21...</td>\n",
       "    </tr>\n",
       "    <tr>\n",
       "      <th>2</th>\n",
       "      <td>10002</td>\n",
       "      <td>2265</td>\n",
       "      <td>10002</td>\n",
       "      <td>0</td>\n",
       "      <td>New York</td>\n",
       "      <td>81305.0</td>\n",
       "      <td>2.628013e+07</td>\n",
       "      <td>NY</td>\n",
       "      <td>New York</td>\n",
       "      <td>36</td>\n",
       "      <td>061</td>\n",
       "      <td>http://www.usps.com/</td>\n",
       "      <td>0.0</td>\n",
       "      <td>0.0</td>\n",
       "      <td>POLYGON ((991339.870 207576.784, 991330.490 20...</td>\n",
       "    </tr>\n",
       "    <tr>\n",
       "      <th>3</th>\n",
       "      <td>10003</td>\n",
       "      <td>2025</td>\n",
       "      <td>10003</td>\n",
       "      <td>0</td>\n",
       "      <td>New York</td>\n",
       "      <td>55878.0</td>\n",
       "      <td>1.553838e+07</td>\n",
       "      <td>NY</td>\n",
       "      <td>New York</td>\n",
       "      <td>36</td>\n",
       "      <td>061</td>\n",
       "      <td>http://www.usps.com/</td>\n",
       "      <td>0.0</td>\n",
       "      <td>0.0</td>\n",
       "      <td>POLYGON ((989830.469 207048.126, 989716.354 20...</td>\n",
       "    </tr>\n",
       "    <tr>\n",
       "      <th>4</th>\n",
       "      <td>10004</td>\n",
       "      <td>118</td>\n",
       "      <td>10004</td>\n",
       "      <td>0</td>\n",
       "      <td>New York</td>\n",
       "      <td>2187.0</td>\n",
       "      <td>4.002521e+06</td>\n",
       "      <td>NY</td>\n",
       "      <td>New York</td>\n",
       "      <td>36</td>\n",
       "      <td>061</td>\n",
       "      <td>http://www.usps.com/</td>\n",
       "      <td>0.0</td>\n",
       "      <td>0.0</td>\n",
       "      <td>POLYGON ((981197.409 196571.082, 981485.049 19...</td>\n",
       "    </tr>\n",
       "  </tbody>\n",
       "</table>\n",
       "</div>"
      ],
      "text/plain": [
       "   zip_code  count ZIPCODE BLDGZIP       PO_NAME  POPULATION          AREA  \\\n",
       "0        83    935   00083       0  Central Park        25.0  3.830099e+07   \n",
       "1     10001    911   10001       0      New York     22413.0  1.779494e+07   \n",
       "2     10002   2265   10002       0      New York     81305.0  2.628013e+07   \n",
       "3     10003   2025   10003       0      New York     55878.0  1.553838e+07   \n",
       "4     10004    118   10004       0      New York      2187.0  4.002521e+06   \n",
       "\n",
       "  STATE    COUNTY ST_FIPS CTY_FIPS                   URL  SHAPE_AREA  \\\n",
       "0    NY  New York      36      061  http://www.usps.com/         0.0   \n",
       "1    NY  New York      36      061  http://www.usps.com/         0.0   \n",
       "2    NY  New York      36      061  http://www.usps.com/         0.0   \n",
       "3    NY  New York      36      061  http://www.usps.com/         0.0   \n",
       "4    NY  New York      36      061  http://www.usps.com/         0.0   \n",
       "\n",
       "   SHAPE_LEN                                           geometry  \n",
       "0        0.0  POLYGON ((998309.725 229616.681, 998282.853 22...  \n",
       "1        0.0  POLYGON ((981958.647 213464.453, 981980.328 21...  \n",
       "2        0.0  POLYGON ((991339.870 207576.784, 991330.490 20...  \n",
       "3        0.0  POLYGON ((989830.469 207048.126, 989716.354 20...  \n",
       "4        0.0  POLYGON ((981197.409 196571.082, 981485.049 19...  "
      ]
     },
     "execution_count": 23,
     "metadata": {},
     "output_type": "execute_result"
    }
   ],
   "source": [
    "# Load the shapefile into a GeoPandas dataframe\n",
    "zip_codes = gp.GeoDataFrame.from_file('data/nyc_zipcode_shapefiles/ZIP_CODE_040114.shp')\n",
    "# Convert the zip code columns in the zip_codes and trees dataframes to int\n",
    "zip_codes['zip_code'] = zip_codes['ZIPCODE'].astype(int)\n",
    "trees['postcode'] = trees['postcode'].astype(int)\n",
    "\n",
    "# Create a new dataframe from the trees dataframe, grouping by zip code and counting the trees\n",
    "zip_tree_counts = trees.groupby('postcode') \\\n",
    "                        .tree_id \\\n",
    "                        .count() \\\n",
    "                        .reset_index() \\\n",
    "                        .rename(columns={'postcode':'zip_code', 'tree_id':'count'})\n",
    "\n",
    "# Merge the zip_codes and zip_tree_counts dataframes\n",
    "zip_tree_counts = gp.GeoDataFrame(zip_tree_counts.merge(\n",
    "                                                        zip_codes,\n",
    "                                                        how='left',\n",
    "                                                        left_on='zip_code',\n",
    "                                                        right_on='zip_code'\n",
    "                                                        )\n",
    "                                 )\n",
    "\n",
    "# Drop null values to prevent issues with plotting the data\n",
    "zip_tree_counts.dropna()\n",
    "# Preview the data\n",
    "zip_tree_counts.head(5)"
   ]
  },
  {
   "cell_type": "code",
   "execution_count": 24,
   "metadata": {
    "slideshow": {
     "slide_type": "subslide"
    },
    "tags": [
     "hide_input_for_slides"
    ]
   },
   "outputs": [
    {
     "data": {
      "image/png": "[encoded data removed]",
      "text/plain": [
       "<Figure size 1440x720 with 2 Axes>"
      ]
     },
     "metadata": {},
     "output_type": "display_data"
    }
   ],
   "source": [
    "# Plot the data\n",
    "fig, axes = plt.subplots(figsize = (20,10))\n",
    "zip_tree_counts.plot(column = 'count',\n",
    "                     cmap = 'Greens',\n",
    "                     alpha = 1,\n",
    "                     linewidth = 0.1,\n",
    "                     ax = axes)\n",
    "\n",
    "# Add a colorbar to the figure for showing the density scale\n",
    "fig.colorbar(plt.cm.ScalarMappable(cmap = 'Greens',\n",
    "                                   norm = plt.Normalize(vmin = 0,\n",
    "                                                        vmax = 25000\n",
    "                                                       )\n",
    "                                  )\n",
    "            )\n",
    "\n",
    "# Set the title of the plot\n",
    "plt.title('NYC Tree Population by Zip Code', size = 20)\n",
    "# Hide the axis\n",
    "plt.axis('off')\n",
    "\n",
    "# Show the map\n",
    "plt.show()"
   ]
  },
  {
   "cell_type": "markdown",
   "metadata": {
    "slideshow": {
     "slide_type": "subslide"
    }
   },
   "source": [
    "#### Although Queens has the highest total number of trees with ~250K, looking at the map, it appears that Staten Island has the highest density of trees."
   ]
  }
 ],
 "metadata": {
  "celltoolbar": "Slideshow",
  "kernelspec": {
   "display_name": "Python 3",
   "language": "python",
   "name": "python3"
  },
  "language_info": {
   "codemirror_mode": {
    "name": "ipython",
    "version": 3
   },
   "file_extension": ".py",
   "mimetype": "text/x-python",
   "name": "python",
   "nbconvert_exporter": "python",
   "pygments_lexer": "ipython3",
   "version": "3.7.5"
  }
 },
 "nbformat": 4,
 "nbformat_minor": 2
}
